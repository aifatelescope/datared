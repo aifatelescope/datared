{
 "cells": [
  {
   "cell_type": "markdown",
   "metadata": {},
   "source": [
    "# Colour Magnitude Diagram\n",
    "\n",
    "We read the photometric catalogs of the science frames, and draw a colour magnitude diagram.\n",
    "\n",
    "You can download this page as a {download}`jupyter notebook <./CMD.ipynb>` file."
   ]
  },
  {
   "cell_type": "code",
   "execution_count": null,
   "metadata": {},
   "outputs": [],
   "source": [
    "import dataredconfig\n",
    "\n",
    "import numpy as np\n",
    "import astropy\n",
    "import astropy.table\n",
    "import astropy.visualization\n",
    "from astropy import units as u\n",
    "\n",
    "%matplotlib widget\n",
    "import matplotlib\n",
    "from matplotlib import pyplot as plt"
   ]
  },
  {
   "cell_type": "markdown",
   "metadata": {},
   "source": [
    "First we read the relevant catalogs as a list of tables."
   ]
  },
  {
   "cell_type": "code",
   "execution_count": null,
   "metadata": {},
   "outputs": [],
   "source": [
    "# Where the photometry catalogs are:\n",
    "photometry_dir = dataredconfig.work_dir / \"PHOTOMETRY\"\n",
    "\n",
    "object_to_process = \"M 37\"\n",
    "\n",
    "catalog_filepaths = sorted(list(photometry_dir.glob('*.fits')))\n",
    "catalogs = []\n",
    "\n",
    "for catalog_filepath in catalog_filepaths:\n",
    "    \n",
    "    catalog = astropy.table.Table.read(catalog_filepath)\n",
    "\n",
    "    # We select the photometric catalogs of our object:  \n",
    "    if \"OBJECT\" in catalog.meta:\n",
    "        if catalog.meta[\"OBJECT\"] == object_to_process:\n",
    "            print(f\"{catalog_filepath} : {catalog.meta}\")\n",
    "            catalogs.append(catalog)\n"
   ]
  },
  {
   "cell_type": "markdown",
   "metadata": {},
   "source": [
    "Now we \"merge\" all these separate tables into a particular structure that will be very useful.\n",
    "\n",
    " * Measurements done with the same filter are stacked in \"depth\", i.e., grouped in 2D-columns.\n",
    " * Finally all filters are stacked \"horizontally\", i.e., as separate columns in one single table."
   ]
  },
  {
   "cell_type": "code",
   "execution_count": null,
   "metadata": {},
   "outputs": [],
   "source": [
    "\n",
    "filter_names = (\"g\", \"r\", \"i\")\n",
    "filter_catalogs = []\n",
    "\n",
    "for filter_name in filter_names:\n",
    "    #print(f\"Starting filter {filter_name}\")\n",
    "    this_filter_catalogs = [catalog for catalog in catalogs if catalog.meta[\"FILTER\"] == filter_name]\n",
    "    this_filter_catalog = astropy.table.dstack(this_filter_catalogs, join_type=\"exact\", metadata_conflicts=\"silent\")\n",
    "    this_filter_catalog.name = filter_name\n",
    "    \n",
    "    filter_catalogs.append(this_filter_catalog)\n",
    "\n",
    "# And we stack these catalogs horizontally into one single table:\n",
    "cat = astropy.table.hstack(filter_catalogs,\n",
    "        join_type=\"exact\", metadata_conflicts=\"silent\",\n",
    "        table_names=filter_names, uniq_col_name='{col_name}_{table_name}'\n",
    "        )\n",
    "\n",
    "# The column names are now:\n",
    "print(cat.colnames)"
   ]
  },
  {
   "cell_type": "code",
   "execution_count": null,
   "metadata": {},
   "outputs": [],
   "source": [
    "\n",
    "# We add a column with the separation between each star and the cluster center.\n",
    "# To get the position, we need to read the reference catalog:\n",
    "\n",
    "ref_catalog = astropy.table.Table.read(photometry_dir / f\"ref_catalog_{object_to_process}.fits\")\n",
    "assert len(ref_catalog) == len(cat) # Just a check that these are indeed of same length\n",
    "    \n",
    "cat[\"sky_pos\"] = ref_catalog[\"sky_centroid_win\"]\n",
    "target_center_pos = astropy.coordinates.SkyCoord(cat.meta[\"RA\"]*u.deg, cat.meta[\"DEC\"]*u.deg)\n",
    "cat[\"separation\"] = astropy.coordinates.SkyCoord.separation(cat[\"sky_pos\"], target_center_pos)\n"
   ]
  },
  {
   "cell_type": "code",
   "execution_count": null,
   "metadata": {},
   "outputs": [],
   "source": [
    "# Quick CMD, with a colorbar indicating the separation between each star and the cluster center\n",
    "\n",
    "cat[\"g\"] = np.median(-2.5 * np.log10(cat[\"sum_4_g\"].value), axis=1)\n",
    "cat[\"r\"] = np.median(-2.5 * np.log10(cat[\"sum_4_r\"].value), axis=1)\n",
    "cat[\"i\"] = np.median(-2.5 * np.log10(cat[\"sum_4_i\"].value), axis=1)\n",
    "\n",
    "plt.figure()\n",
    "plt.scatter(\n",
    "    cat[\"g\"] - cat[\"i\"],\n",
    "    cat[\"r\"],\n",
    "    s = 5,\n",
    "    c = cat[\"separation\"].value\n",
    ")\n",
    "plt.gca().invert_yaxis()\n",
    "plt.colorbar(label=f\"Separation to target center in {cat['separation'].unit}\")\n",
    "plt.xlabel(\"g - i\")\n",
    "plt.ylabel(\"r\")\n",
    "plt.title(object_to_process)\n",
    "plt.show()\n",
    "\n"
   ]
  }
 ],
 "metadata": {
  "kernelspec": {
   "display_name": "datared2",
   "language": "python",
   "name": "python3"
  },
  "language_info": {
   "codemirror_mode": {
    "name": "ipython",
    "version": 3
   },
   "file_extension": ".py",
   "mimetype": "text/x-python",
   "name": "python",
   "nbconvert_exporter": "python",
   "pygments_lexer": "ipython3",
   "version": "3.11.8"
  }
 },
 "nbformat": 4,
 "nbformat_minor": 2
}
