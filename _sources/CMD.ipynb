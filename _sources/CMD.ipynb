{
 "cells": [
  {
   "cell_type": "markdown",
   "metadata": {},
   "source": [
    "# Colour Magnitude Diagram\n",
    "\n",
    "```{warning}\n",
    "This page is still under construction. It will be ready in time for the S263 data reduction sessions.\n",
    "```\n",
    "\n",
    "In this notebook, we read the photometric catalogs of the science frames, and draw a colour magnitude diagram.\n",
    "\n",
    "You can download this page as a {download}`jupyter notebook <./CMD.ipynb>` file.\n",
    "\n",
    "```{note}\n",
    "In case you have been working on an AIfA lab room computer until this point, you might be interested in moving to a personal laptop (for example) for these last steps.\n",
    "All that we'll need from here on is the content of the `PHOTOMETRY` directory (including the reference catalog). This is a relatively small amount of data (compared to the raw or pre-reduced images), so you could consider to copy just these files to your own computer. The CPU requirements for these last steps will also be negligible. \n",
    "```"
   ]
  },
  {
   "cell_type": "code",
   "execution_count": null,
   "metadata": {},
   "outputs": [],
   "source": [
    "import dataredconfig\n",
    "\n",
    "import numpy as np\n",
    "import astropy\n",
    "import astropy.table\n",
    "import astropy.visualization\n",
    "from astropy import units as u\n",
    "\n",
    "%matplotlib widget\n",
    "import matplotlib\n",
    "from matplotlib import pyplot as plt"
   ]
  },
  {
   "cell_type": "markdown",
   "metadata": {},
   "source": [
    "## Gathering and structuring the data\n",
    "\n",
    "We start by reading the relevant catalogs as a list of tables."
   ]
  },
  {
   "cell_type": "code",
   "execution_count": null,
   "metadata": {},
   "outputs": [],
   "source": [
    "# Where the photometry catalogs are:\n",
    "photometry_dir = dataredconfig.work_dir / \"PHOTOMETRY\"\n",
    "\n",
    "object_to_process = \"M 37\"\n",
    "\n",
    "catalog_filepaths = sorted(list(photometry_dir.glob('*.fits')))\n",
    "catalogs = []\n",
    "\n",
    "for catalog_filepath in catalog_filepaths:\n",
    "    \n",
    "    catalog = astropy.table.Table.read(catalog_filepath)\n",
    "\n",
    "    # We select the photometric catalogs of our object:  \n",
    "    if \"OBJECT\" in catalog.meta:\n",
    "        if catalog.meta[\"OBJECT\"] == object_to_process:\n",
    "            print(f\"{catalog_filepath} : {catalog.meta}\")\n",
    "            catalogs.append(catalog)\n",
    "\n",
    "print(f\"Collected {len(catalogs)} catalogs.\")"
   ]
  },
  {
   "cell_type": "markdown",
   "metadata": {},
   "source": [
    "Now we \"merge\" all these separate tables into a particular structure that will be very useful.\n",
    "\n",
    " * Measurements done with the same filter are stacked in \"depth\", i.e., grouped in 2D-columns.\n",
    " * Finally all filters are stacked \"horizontally\", i.e., as separate columns in one single table."
   ]
  },
  {
   "cell_type": "code",
   "execution_count": null,
   "metadata": {},
   "outputs": [],
   "source": [
    "\n",
    "filter_names = (\"g\", \"r\", \"i\")\n",
    "filter_catalogs = []\n",
    "\n",
    "for filter_name in filter_names:\n",
    "    #print(f\"Starting filter {filter_name}\")\n",
    "    this_filter_catalogs = [catalog for catalog in catalogs if catalog.meta[\"FILTER\"] == filter_name]\n",
    "    this_filter_catalog = astropy.table.dstack(this_filter_catalogs, join_type=\"exact\", metadata_conflicts=\"silent\")\n",
    "    this_filter_catalog.name = filter_name\n",
    "    \n",
    "    filter_catalogs.append(this_filter_catalog)\n",
    "\n",
    "# And we stack these catalogs horizontally into one single table:\n",
    "cat = astropy.table.hstack(filter_catalogs,\n",
    "        join_type=\"exact\", metadata_conflicts=\"silent\",\n",
    "        table_names=filter_names, uniq_col_name='{col_name}_{table_name}'\n",
    "        )\n",
    "\n",
    "# The columns are now the following:\n",
    "print(\"Columns of cat:\")\n",
    "for colname in cat.colnames:\n",
    "    print(f\"{colname}: shape {cat[colname].shape}\")\n"
   ]
  },
  {
   "cell_type": "markdown",
   "metadata": {},
   "source": [
    "Note how the filter name is now appended to the column names.\n",
    "These columns have two dimension: the first index identifies the source (i.e., star), and the second index runs over the different exposures."
   ]
  },
  {
   "cell_type": "code",
   "execution_count": null,
   "metadata": {},
   "outputs": [],
   "source": [
    "\n",
    "# We add a column with the separation between each star and the cluster center.\n",
    "# To get the position, we need to read the reference catalog:\n",
    "\n",
    "ref_catalog = astropy.table.Table.read(photometry_dir / f\"ref_catalog_{object_to_process}.fits\")\n",
    "assert len(ref_catalog) == len(cat) # Just a check that these are indeed of same length\n",
    "    \n",
    "cat[\"sky_pos\"] = ref_catalog[\"sky_centroid_win\"]\n",
    "target_center_pos = astropy.coordinates.SkyCoord(cat.meta[\"RA\"]*u.deg, cat.meta[\"DEC\"]*u.deg)\n",
    "cat[\"separation\"] = target_center_pos.separation(cat[\"sky_pos\"])\n"
   ]
  },
  {
   "cell_type": "markdown",
   "metadata": {},
   "source": [
    "### A quick CMD in instrumental magnitudes\n",
    "\n",
    "As an example, we compute a median instrumental magnitude in each filter (where the median is taken over the different exposures).\n",
    "This can certainly be improved, feel invited to experiment."
   ]
  },
  {
   "cell_type": "code",
   "execution_count": null,
   "metadata": {},
   "outputs": [],
   "source": [
    "\n",
    "# We take the median accross \"axis=1\", that is the second index.\n",
    "# The first index (axis=0) identifies the different stars.\n",
    "cat[\"instr_mag_g\"] = np.median(-2.5 * np.log10(cat[\"sum_4_g\"].value), axis=1)\n",
    "cat[\"instr_mag_r\"] = np.median(-2.5 * np.log10(cat[\"sum_4_r\"].value), axis=1)\n",
    "cat[\"instr_mag_i\"] = np.median(-2.5 * np.log10(cat[\"sum_4_i\"].value), axis=1)\n",
    "\n",
    "\n",
    "plt.figure()\n",
    "plt.scatter(\n",
    "    cat[\"instr_mag_g\"] - cat[\"instr_mag_i\"],\n",
    "    cat[\"instr_mag_r\"],\n",
    "    s = 5,\n",
    "    c = cat[\"separation\"].value # color represents separation between star and cluster center\n",
    ")\n",
    "plt.gca().invert_yaxis()\n",
    "plt.colorbar(label=f\"Separation to target center in {cat['separation'].unit}\")\n",
    "plt.xlabel(\"Instrumental mag g - i\")\n",
    "plt.ylabel(\"Instrumental mag r\")\n",
    "plt.title(object_to_process)\n",
    "plt.show()\n",
    "\n"
   ]
  },
  {
   "cell_type": "markdown",
   "metadata": {},
   "source": [
    "## Magnitude calibration\n",
    "\n",
    "\n",
    "```{admonition} Question\n",
    "Example of a question.\n",
    "```"
   ]
  },
  {
   "cell_type": "markdown",
   "metadata": {},
   "source": [
    "## Discussion of the CMD"
   ]
  },
  {
   "cell_type": "markdown",
   "metadata": {},
   "source": [
    "```{admonition} Question\n",
    "Can you estimate the age and distance of your cluster, by comparing its calibrated CMD to the isochrones. \n",
    "```"
   ]
  }
 ],
 "metadata": {
  "kernelspec": {
   "display_name": "py12datared",
   "language": "python",
   "name": "python3"
  },
  "language_info": {
   "codemirror_mode": {
    "name": "ipython",
    "version": 3
   },
   "file_extension": ".py",
   "mimetype": "text/x-python",
   "name": "python",
   "nbconvert_exporter": "python",
   "pygments_lexer": "ipython3",
   "version": "3.12.8"
  }
 },
 "nbformat": 4,
 "nbformat_minor": 2
}
