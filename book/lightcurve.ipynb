{
 "cells": [
  {
   "cell_type": "markdown",
   "metadata": {},
   "source": [
    "# Light curve\n",
    "\n",
    "In this notebook we'll assemble the light curve of a star, calibrated against other stars of the same field, with the purpose of uncovering an exoplanet transit.\n",
    "\n",
    "As usual, you can download this page as a {download}`jupyter notebook <./lightcurve.ipynb>` file.\n",
    "\n",
    "```{note}\n",
    "In case you have been working on an AIfA lab room computer until this point, you might be interested in moving to a personal laptop (for example) for these last steps.\n",
    "All that we'll need from here on is the content of the `PHOTOMETRY` directory (including the reference catalog), as well as **one** of the pre-reduced images (from `LIGHT_PRERED`). This is a relatively small amount of data (compared to the raw or pre-reduced images), so you could consider to copy just these files to your own computer. The CPU requirements for these last steps will also be negligible. \n",
    "```"
   ]
  },
  {
   "cell_type": "code",
   "execution_count": null,
   "metadata": {},
   "outputs": [],
   "source": [
    "import dataredconfig\n",
    "import pathlib\n",
    "\n",
    "import numpy as np\n",
    "import astropy\n",
    "import astropy.table\n",
    "import astropy.visualization\n",
    "import astropy.coordinates\n",
    "from astropy import units as u\n",
    "\n",
    "import datetime\n",
    "\n",
    "%matplotlib widget\n",
    "import matplotlib\n",
    "from matplotlib import pyplot as plt\n",
    "\n",
    "import ccdproc"
   ]
  },
  {
   "cell_type": "markdown",
   "metadata": {},
   "source": [
    "## Preparation of the data"
   ]
  },
  {
   "cell_type": "code",
   "execution_count": null,
   "metadata": {},
   "outputs": [],
   "source": [
    "photometry_dir = dataredconfig.work_dir / \"PHOTOMETRY\"\n",
    "\n",
    "object_to_process = \"HD92670\"\n",
    "\n",
    "catalog_filepaths = sorted(list(photometry_dir.glob('*.fits')))\n",
    "catalogs = []\n",
    "\n",
    "# We'll read all catalogs in, can keep only those matching the desired object in the above list.\n",
    "for catalog_filepath in catalog_filepaths:\n",
    "    \n",
    "    catalog = astropy.table.Table.read(catalog_filepath)\n",
    "\n",
    "    # We select the photometric catalogs of our object:  \n",
    "    if \"OBJECT\" in catalog.meta:\n",
    "        if catalog.meta[\"OBJECT\"] == object_to_process:\n",
    "            print(f\"{catalog_filepath} : {catalog.meta}\")\n",
    "            catalogs.append(catalog)\n"
   ]
  },
  {
   "cell_type": "code",
   "execution_count": null,
   "metadata": {},
   "outputs": [],
   "source": [
    "# We combine these catalogs into a single table, in \"depth\": columns will be 2D, where the second dimension is time.\n",
    "catalog = astropy.table.dstack(catalogs, join_type=\"exact\", metadata_conflicts=\"silent\")\n",
    "\n",
    "# We also produce a list of datetime objects, from the FITS headers:\n",
    "date_strings = [c.meta[\"DATE-OBS\"] for c in catalogs]\n",
    "dates = [datetime.datetime.fromisoformat(date) for date in date_strings]\n",
    "\n",
    "# And while we are at it, same for the airmass:\n",
    "airmasses = [c.meta[\"AIRMASS\"] for c in catalogs]\n",
    "\n",
    "# We read the reference catalog, as this one contains the position of each star\n",
    "ref_catalog = astropy.table.Table.read(photometry_dir / f\"ref_catalog_{object_to_process}.fits\")\n",
    "assert len(ref_catalog) == len(catalog) # Just a check that these are indeed of same length\n",
    "\n",
    "# We copy the positions from the reference catalog over to our combined catalog:\n",
    "catalog[\"sky_centroid_win\"] = ref_catalog[\"sky_centroid_win\"]\n",
    "\n",
    "print(f\"Number of epochs: {len(catalogs)}\")\n",
    "\n",
    "# And just for your information, the column names of our \"combined\" catalogue are:\n",
    "catalog.colnames\n"
   ]
  },
  {
   "cell_type": "markdown",
   "metadata": {},
   "source": [
    "We display an image of the field, overplotting the \"source indices\" corresponding to rows of our catalog.\n",
    "\n",
    "This will allow us to identify the target and reference stars. "
   ]
  },
  {
   "cell_type": "code",
   "execution_count": null,
   "metadata": {},
   "outputs": [],
   "source": [
    "# We load one of the images, it does not have to be a specific one.\n",
    "light_prered_dir = dataredconfig.work_dir / \"LIGHT_PRERED\"\n",
    "science_files = ccdproc.ImageFileCollection(light_prered_dir, keywords=dataredconfig.ifc_header_keywords)\n",
    "science_files = science_files.filter(object=object_to_process)\n",
    "image_path = science_files.files[0]\n",
    "image = ccdproc.CCDData.read(image_path, unit=\"adu\")\n",
    "image.data -= np.median(image.data) # Quick sky subtraction\n",
    "\n",
    "# And now create the figure\n",
    "plt.figure(figsize=(10, 6))\n",
    "ax = plt.subplot(projection=image.wcs)\n",
    "ax.imshow(image.data, origin='lower', cmap='Greys_r', interpolation='nearest',\n",
    "    norm=astropy.visualization.simple_norm(image.data, stretch=\"sqrt\", min_cut=-20, max_cut=500))\n",
    "ax.scatter(\n",
    "    catalog[\"sky_centroid_win\"].ra.degree,\n",
    "    catalog[\"sky_centroid_win\"].dec.degree,\n",
    "    transform=ax.get_transform('world'),\n",
    "    s=50, # The size of these markers is not related to any measurement apertures!\n",
    "    edgecolor='red', facecolor='none'\n",
    "    )\n",
    "for line in catalog:\n",
    "    ax.text(\n",
    "        x=line[\"sky_centroid_win\"].ra.degree,\n",
    "        y=line[\"sky_centroid_win\"].dec.degree,\n",
    "        s=str(line.index),\n",
    "        transform=ax.get_transform('world'),\n",
    "        color=\"cyan\"\n",
    "        )\n",
    "ax.grid(color='white', ls='solid')\n",
    "ax.coords[0].set_axislabel('RA')\n",
    "ax.coords[1].set_axislabel('Dec')\n",
    "#ax.coords[0].set_ticks(spacing=5.*u.arcmin)\n",
    "#ax.coords[1].set_ticks(spacing=5.*u.arcmin)\n",
    "plt.tight_layout()\n",
    "plt.show()\n",
    "\n"
   ]
  },
  {
   "cell_type": "markdown",
   "metadata": {},
   "source": [
    "Let's now visualize the raw light curves, to get a first impression.\n",
    "The following code is there as an example on how to use and manipulate the `catalog` and how to plot basic light curves, to get you started."
   ]
  },
  {
   "cell_type": "code",
   "execution_count": null,
   "metadata": {},
   "outputs": [],
   "source": [
    "\n",
    "# We compute an \"instrumental magnitude\" from all our flux measurements.\n",
    "# \"Instrumental\" means that this is not yet calibrated to correspond to an apparent magnitude.\n",
    "# Note that this is the line where we select which aperture to consider.\n",
    "# Of course, you can try to figure out which apertures works best for your data.\n",
    "catalog[\"instr_mag\"] = -2.5 * np.log10(catalog[\"sum_8\"].value) # this is a \"2D\" column: (source index, date)\n",
    "\n",
    "# We can also compute summary statistics for each source. Useful ones could be for example the median instrumental magnitude,\n",
    "# obtained by taking the median along the \"date\"-axis of the instrumental magnitudes:\n",
    "catalog[\"mean_instr_mag\"] = np.nanmedian(catalog[\"instr_mag\"].value, axis=1) # this is just a 1D column: (source index)\n",
    "# Using \"nanmedian\" instead of \"median\" has the advantage that NaNs get ignored.\n",
    "# And similarly the standard deviation of each light curve:\n",
    "catalog[\"std_instr_mag\"] = np.nanstd(catalog[\"instr_mag\"].value, axis=1) # this is just a 1D column: (source index)\n",
    "# Note that these are 1D columns: they just have one index, namely the source index.\n",
    "\n",
    "# Another interesting quantity might be the angular separation (in degrees) between each star and your target:\n",
    "target_index = 34 # Adapt this!\n",
    "target_center_pos = catalog[\"sky_centroid_win\"][target_index]\n",
    "catalog[\"separation\"] = astropy.coordinates.SkyCoord.separation(catalog[\"sky_centroid_win\"], target_center_pos)\n",
    "# Depending on your data, it could be important to avoid stars with large angular separation to calibrate your target.\n",
    "\n",
    "# When making a plot (and also to select reference stars), you could hand-pick indices, or build such a list algorithmically:\n",
    "indices_show = [0, 5, 8, 17, 38]\n",
    "\n",
    "plt.figure()\n",
    "ax = plt.subplot()\n",
    "\n",
    "# We simply loop over the indices to show:\n",
    "for index in indices_show:\n",
    "    ax.plot(dates, catalog[\"instr_mag\"][index], lw=1, label=index)\n",
    "\n",
    "ax.invert_yaxis() # Needed, as we show a magnitude on y.\n",
    "\n",
    "# Some advanced settings to help getting a nice format of the date axis labels:\n",
    "ax.xaxis.set_major_formatter(matplotlib.dates.ConciseDateFormatter(ax.xaxis.get_major_locator()))\n",
    "ax.set_xlabel(\"UTC\")\n",
    "ax.set_ylabel(\"Instrumental magnitude\")\n",
    "plt.gcf().autofmt_xdate()\n",
    "plt.legend()\n",
    "plt.tight_layout()\n",
    "plt.show()"
   ]
  },
  {
   "cell_type": "markdown",
   "metadata": {},
   "source": [
    "It's good to play around with these raw light curves a bit.\n",
    "\n",
    "```{admonition} Question\n",
    "Do you observe any trends in these light curves, common to all stars or to some of these stars? Comment on what could cause these trends.\n",
    "```\n",
    "\n",
    "```{note} \n",
    "An interesting plot could be a scatter plot of the mean (instrumental) magnitude versus the standard deviation of each light curve (i.e., source). This could help you identify (for example) a magnitude threshold beyond which stars are saturated, and therefore can't be used for calibration. Indeed, stars that are close to saturation will typically show an excess scatter in their light curves, compared to stars that are safely below saturation.\n",
    "```\n"
   ]
  },
  {
   "cell_type": "markdown",
   "metadata": {},
   "source": [
    "## Calibration\n",
    "\n",
    "To reveal the transit itself, some empirical calibration of the flux (or magnitude) measured in each exposure is needed.\n",
    "\n",
    "```{admonition} Question\n",
    "In theory, what would be the properties of good reference stars to use for the calibration?\n",
    "```\n",
    "\n",
    "It's good to keep in mind that some technical or instrumental effects might possibly have strong effects on the calibration, and influence the optimal selection of reference stars. So in practice, it's mandatory to actually test the calibration, instead of relying on theoretical considerations.\n",
    "\n",
    "Before implementing a calibration, we now need to define a strategy.\n",
    "\n",
    "```{admonition} Question\n",
    "What causes the flux variations between exposures and what is the best way to correct for them? Try to come up with a formalism (i.e., equations) of a simple correction strategy.\n",
    "```\n",
    "\n",
    "\n"
   ]
  },
  {
   "cell_type": "markdown",
   "metadata": {},
   "source": [
    "\n",
    "## Plotting the light curves\n",
    "\n",
    "Once we have computed a calibration, we can plot the light curve of the exoplanet system!\n",
    "\n",
    "\n",
    "```{admonition} Question\n",
    "In addition to the light curve of the target star, also plot the light curves of some reference stars (after calibration), on the same axes or a separate figure. Use this to verify that your corrections are successful, and that you did not pick up variable stars or stars that have observational issues as reference sources.\n",
    "Do you see residual correlations between some stars?\n",
    "```\n",
    "\n",
    "\n",
    "```{admonition} Question\n",
    "If you see stars with strong residuals after the calibration, what could be the reasons?\n",
    "You can try to optimize the calibration by adapting the code to ignore particular stars.\n",
    "```\n",
    "\n",
    "```{admonition} Question\n",
    "Can you identify the start and/or end of the transit?\n",
    "Give an estimate for the uncertainty of your estimate.\n",
    "```\n",
    "\n"
   ]
  },
  {
   "cell_type": "markdown",
   "metadata": {},
   "source": [
    "\n",
    "\n",
    "## Discussion of the exoplanet transit\n",
    "\n",
    "```{admonition} Question\n",
    "What \"depth\" (in magnitude) do you measure on your transit. Can you convert your value to the commonly used \"parts per thousand\" (ppt)?\n",
    "```\n",
    "\n",
    "```{admonition} Question\n",
    "Are your findings regarding the transit consistent with \"literature\" measurements (depth, duration, start/end time of the transit)?\n",
    "```\n",
    "\n",
    "```{admonition} Question\n",
    "Calculate the radius of the exoplanet relative to its host star from your measurement of the light curve. Think as well of how you could estimate the uncertainties.\n",
    "```"
   ]
  }
 ],
 "metadata": {
  "kernelspec": {
   "display_name": "datared2",
   "language": "python",
   "name": "python3"
  },
  "language_info": {
   "codemirror_mode": {
    "name": "ipython",
    "version": 3
   },
   "file_extension": ".py",
   "mimetype": "text/x-python",
   "name": "python",
   "nbconvert_exporter": "python",
   "pygments_lexer": "ipython3",
   "version": "undefined.undefined.undefined"
  }
 },
 "nbformat": 4,
 "nbformat_minor": 2
}
