{
 "cells": [
  {
   "cell_type": "markdown",
   "metadata": {},
   "source": [
    "# Image pre-reduction\n",
    "\n",
    "This page will take us through the full pre-reduction of the science images.\n",
    "\n",
    "You could copy or write the code shown below in a script, or alternatively directly download this page as a {download}`jupyter notebook <./pre-red.ipynb>` file.\n",
    "\n",
    "Before running the code, make sure you've created and adjusted the module `dataredconfig.py`, as explained [here](./data.md).\n"
   ]
  },
  {
   "cell_type": "code",
   "execution_count": null,
   "metadata": {},
   "outputs": [],
   "source": [
    "import dataredconfig\n",
    "\n",
    "from pathlib import Path\n",
    "import numpy as np\n",
    "import astropy\n",
    "from astropy import units as u\n",
    "%matplotlib ipympl\n",
    "import matplotlib\n",
    "from matplotlib import pyplot as plt\n",
    "import ccdproc\n",
    "import photutils\n",
    "\n",
    "print(\"numpy\", np.__version__, \", astropy\", astropy.__version__, \", matplotlib\", matplotlib.__version__, \", ccdproc\", ccdproc.__version__, \", photutils\", photutils.__version__)\n",
    "# Developed with (April 2024): numpy 1.26.4 , astropy 6.0.1 , matplotlib 3.8.3 , ccdproc 2.4.1 , photutils 1.11.0"
   ]
  },
  {
   "cell_type": "code",
   "execution_count": null,
   "metadata": {},
   "outputs": [],
   "source": [
    "# We'll ignore some astropy warnings that get raised as our FITS headers (from NINA) are not 100% standards compliant.\n",
    "import warnings\n",
    "warnings.simplefilter('ignore', category=astropy.wcs.FITSFixedWarning)"
   ]
  },
  {
   "cell_type": "markdown",
   "metadata": {},
   "source": [
    "## Creating a master-bias"
   ]
  },
  {
   "cell_type": "code",
   "execution_count": null,
   "metadata": {},
   "outputs": [],
   "source": [
    "bias_files = ccdproc.ImageFileCollection(dataredconfig.data_dir / \"BIAS\", keywords=dataredconfig.ifc_header_keywords)\n",
    "bias_files.summary"
   ]
  },
  {
   "cell_type": "code",
   "execution_count": null,
   "metadata": {},
   "outputs": [],
   "source": [
    "# We check the level and noise in these files:\n",
    "for ccd, filename in bias_files.ccds(ccd_kwargs={'unit': 'adu'}, return_fname=True):\n",
    "    print(f\"{filename}: standard deviation {ccd.data.std():.2f} ADU, median level {np.median(ccd.data):.2f} ADU\")"
   ]
  },
  {
   "cell_type": "markdown",
   "metadata": {},
   "source": [
    "```{admonition} Question\n",
    "We'll now build our master-bias by averaging over the bias frames. Assuming that the bias frames contain pure uncorrelated noise (in addition to a prefectly constant bias level), what pixel-to-pixel standard deviation would you expect to observe in the master-bias, and why? Compare this with the actual measurement.\n",
    "```"
   ]
  },
  {
   "cell_type": "code",
   "execution_count": null,
   "metadata": {},
   "outputs": [],
   "source": [
    "combiner = ccdproc.Combiner(bias_files.ccds(ccd_kwargs={\"unit\":\"adu\"}))\n",
    "masterbias = combiner.average_combine()\n",
    "\n",
    "masterbias.meta['combined'] = True\n",
    "masterbias.data = masterbias.data.astype('float32') # Converts to float32 to save space\n",
    "masterbias.write(dataredconfig.work_dir / 'masterbias.fits', overwrite=True)\n",
    "\n",
    "print(f\"masterbias: standard deviation {masterbias.data.std():.2f} ADU, median level {np.median(masterbias.data):.2f} ADU\")"
   ]
  },
  {
   "cell_type": "markdown",
   "metadata": {},
   "source": [
    "Let's now inspect this master bias visually, to see if it has any structure.\n",
    "\n",
    "With the code below, you could zoom around in the masterbias. Does it look homogeneous?\n",
    "We also create a smoothed version of the masterbias, to highlight a bit some (potential) larger scale structures. We will of course not use this smoothed version in the pre-reduction, but it might help to visualize some of the structure."
   ]
  },
  {
   "cell_type": "markdown",
   "metadata": {},
   "source": [
    "```{note}\n",
    "When displaying **any** image, always make sure to adjust the so called **greyscale** (or \"brightness\" scale, sometimes also called \"z-scale\" in astronomical software) to properly see whatever structure you want to inspect. In the present case, add the keyword arguments `vmin=0, vmax=5000` (with properly chosen values, based for example on the median level computed above) to the call of `plt.imshow()`. These are \"cuts\" for a linear grey level mapping: pixels with value `vmin` (or below) will be shown as black, and those with value `vmax` (or above) will be shown as white, and everything in between will be mapped to some grey level. If you don't do this, these \"cuts\" will be automatically selected by some algorithm (often as the minimum and maximum values of the image), and might not be adequate to visualize the details that you want to inspect.\n",
    "```"
   ]
  },
  {
   "cell_type": "code",
   "execution_count": null,
   "metadata": {},
   "outputs": [],
   "source": [
    "# Median-smoothing the masterbias (only for display purposes):\n",
    "smooth_masterbias = photutils.background.Background2D(masterbias.data, (100, 100), filter_size=(3, 3), bkg_estimator=photutils.background.MedianBackground()).background\n",
    "\n",
    "plt.figure(figsize=(8, 4))\n",
    "plt.title(\"Masterbias\")\n",
    "cbar = plt.imshow(masterbias, origin='lower', cmap='Greys_r', interpolation='nearest')\n",
    "plt.colorbar(cbar, label=\"Pixel value [ADU]\")\n",
    "plt.xlabel(\"x [pixel]\")\n",
    "plt.ylabel(\"y [pixel]\")\n",
    "plt.tight_layout()\n",
    "plt.show()"
   ]
  },
  {
   "cell_type": "markdown",
   "metadata": {},
   "source": [
    "## Creating a master-dark"
   ]
  },
  {
   "cell_type": "code",
   "execution_count": null,
   "metadata": {},
   "outputs": [],
   "source": [
    "dark_files = ccdproc.ImageFileCollection(dataredconfig.data_dir / \"DARK\", keywords=dataredconfig.ifc_header_keywords)\n",
    "\n",
    "# See below if such a filter is needed:\n",
    "#dark_files = dark_files.filter(exptime=60.0)\n",
    "\n",
    "dark_files.summary\n"
   ]
  },
  {
   "cell_type": "code",
   "execution_count": null,
   "metadata": {},
   "outputs": [],
   "source": [
    "# For this simple example we want all darks to have the same exptime.\n",
    "exptimes = list(set(dark_files.summary[\"exptime\"]))\n",
    "assert(len(exptimes) == 1) # If this fails, apply some selection to your files.\n",
    "dark_exptime = exptimes[0]\n",
    "print(\"Exposure times of darks: \", dark_exptime)\n",
    "\n",
    "# As done for the bias frames, let's check the level and noise in these darks:\n",
    "\n",
    "for ccd, filename in dark_files.ccds(ccd_kwargs={'unit': 'adu'}, return_fname=True):\n",
    "    print(f\"{filename}: standard deviation {ccd.data.std():.2f} ADU, median level {np.median(ccd.data):.2f} ADU\")"
   ]
  },
  {
   "cell_type": "markdown",
   "metadata": {},
   "source": [
    "```{admonition} Question\n",
    "Why is the standard deviation on these dark frames much larger than for bias frames, while the level is almost the same?\n",
    "```"
   ]
  },
  {
   "cell_type": "code",
   "execution_count": null,
   "metadata": {},
   "outputs": [],
   "source": [
    "# Create the masterdark\n",
    "\n",
    "dest_dir = dataredconfig.work_dir / \"DARK_BIASSUB\"\n",
    "dest_dir.mkdir(exist_ok=True)\n",
    "\n",
    "# First loop over the dark frames to subtract the bias: \n",
    "for ccd, filename in dark_files.ccds(ccd_kwargs={'unit': 'adu'}, return_fname=True):\n",
    "    print(f\"Processing {filename}...\")\n",
    "    ccd = ccdproc.subtract_bias(ccd, masterbias)\n",
    "    # Write to disk:\n",
    "    ccd.data = ccd.data.astype('float32')\n",
    "    ccd.write(dest_dir / filename, overwrite=True)\n",
    "\n",
    "# Note: depending on the available memory,\n",
    "# it might be possible to do this without writing intermediary files,\n",
    "# following something like:\n",
    "#dark_ccds = [ccdproc.subtract_bias(ccd, masterbias) for ccd in dark_files.ccds(ccd_kwargs={'unit': 'adu'})]\n",
    "\n",
    "# Then we combine the files:\n",
    "files_to_combine = ccdproc.ImageFileCollection(dest_dir).files_filtered(include_path=True)\n",
    "masterdark = ccdproc.combine(files_to_combine,\n",
    "                                 method='average',\n",
    "                                 sigma_clip=True, sigma_clip_low_thresh=5, sigma_clip_high_thresh=5,\n",
    "                                 sigma_clip_func=np.ma.median, signma_clip_dev_func=astropy.stats.mad_std,\n",
    "                                 mem_limit=1e9\n",
    "                                )\n",
    "\n",
    "masterdark.meta['combined'] = True\n",
    "masterdark.data = masterdark.data.astype('float32') # Converts to float32 to save space\n",
    "masterdark.write(dataredconfig.work_dir / 'masterdark.fits', overwrite=True)\n"
   ]
  },
  {
   "cell_type": "markdown",
   "metadata": {},
   "source": [
    "Same as for the bias: let's check this for some structure. The median-filtering helps to hide the hot pixels and highlight the larger spatial scales instead. Display the plain `masterdark` to see the hot pixels. Of course we'll later use the plain masterdark without any filtering!\n",
    "\n"
   ]
  },
  {
   "cell_type": "code",
   "execution_count": null,
   "metadata": {},
   "outputs": [],
   "source": [
    "smooth_masterdark = photutils.background.Background2D(masterdark.data, (200, 200), filter_size=(1, 1), bkg_estimator=photutils.background.MedianBackground()).background\n",
    "\n",
    "plt.figure(figsize=(8, 4))\n",
    "cbar = plt.imshow(smooth_masterdark, origin='lower', cmap='Greys_r', interpolation='nearest')\n",
    "plt.colorbar(cbar, label=\"Pixel value [ADU]\")\n",
    "plt.tight_layout()\n",
    "plt.show()"
   ]
  },
  {
   "cell_type": "markdown",
   "metadata": {},
   "source": [
    "```{note} \n",
    "As you saw in the code, the masterbias has already been subtracted from this masterdark. So in this figure you should see the effect of the dark current alone.\n",
    "```"
   ]
  },
  {
   "cell_type": "markdown",
   "metadata": {},
   "source": [
    "## Creating the master-flats"
   ]
  },
  {
   "cell_type": "code",
   "execution_count": null,
   "metadata": {},
   "outputs": [],
   "source": [
    "flat_files = ccdproc.ImageFileCollection(dataredconfig.data_dir / \"FLAT\", keywords=dataredconfig.ifc_header_keywords)\n",
    "flat_files.summary\n"
   ]
  },
  {
   "cell_type": "code",
   "execution_count": null,
   "metadata": {},
   "outputs": [],
   "source": [
    "# Scaling function for the flats: they get \"normalized\" (i.e., divided) by their median:\n",
    "def inv_median(a):\n",
    "    return 1 / np.median(a)"
   ]
  },
  {
   "cell_type": "code",
   "execution_count": null,
   "metadata": {},
   "outputs": [],
   "source": [
    "\n",
    "# We'll simply loop over these filters:\n",
    "flat_filters_to_run_on = [\"g\", \"r\", \"i\"]\n",
    "\n",
    "for selected_filter in flat_filters_to_run_on:\n",
    "\n",
    "    selected_flat_files = flat_files.filter(filter=selected_filter)\n",
    "    \n",
    "    dest_dir = dataredconfig.work_dir / f\"FLAT_{selected_filter}_BIASDARKSUB\"\n",
    "    dest_dir.mkdir(exist_ok=True)\n",
    "\n",
    "    # First subtract bias and dark from every flat:\n",
    "    for ccd, filename in selected_flat_files.ccds(ccd_kwargs={'unit': 'adu'}, return_fname=True):\n",
    "        print(f\"Processing {filename}...\")\n",
    "        ccd = ccdproc.subtract_bias(ccd, masterbias)\n",
    "        ccd = ccdproc.subtract_dark(ccd, masterdark, exposure_time='exptime', exposure_unit=u.second, scale=True)\n",
    "    \n",
    "        # Write to disk:\n",
    "        ccd.data = ccd.data.astype('float32') # Converts to float32 to save space\n",
    "        ccd.write(dest_dir / filename, overwrite=True)\n",
    "\n",
    "\n",
    "    # And now combine to a masterflat:\n",
    "    files_to_combine = ccdproc.ImageFileCollection(dest_dir).files_filtered(include_path=True)\n",
    "    masterflat = ccdproc.combine(files_to_combine,\n",
    "                                 method='average', scale=inv_median,\n",
    "                                 sigma_clip=True, sigma_clip_low_thresh=5, sigma_clip_high_thresh=5,\n",
    "                                 sigma_clip_func=np.ma.median, signma_clip_dev_func=astropy.stats.mad_std,\n",
    "                                 mem_limit=1e9\n",
    "                                )\n",
    "\n",
    "    masterflat.meta['combined'] = True\n",
    "    masterflat.data = masterflat.data.astype('float32') # Converts to float32 to save space\n",
    "    masterflat.write(dataredconfig.work_dir / f\"masterflat_{selected_filter}.fits\", overwrite=True)"
   ]
  },
  {
   "cell_type": "code",
   "execution_count": null,
   "metadata": {},
   "outputs": [],
   "source": [
    "# Checking the masterflats\n",
    "\n",
    "masterflat = ccdproc.CCDData.read(dataredconfig.work_dir / \"masterflat_r.fits\")\n",
    "plt.figure(figsize=(8, 4))\n",
    "cbar = plt.imshow(masterflat.data, vmin=0.9, vmax=1.05, origin='lower', cmap='Greys_r', interpolation='nearest')\n",
    "plt.colorbar(cbar)\n",
    "plt.tight_layout()\n",
    "plt.show()\n"
   ]
  },
  {
   "cell_type": "markdown",
   "metadata": {},
   "source": [
    "## Processing the science images"
   ]
  },
  {
   "cell_type": "code",
   "execution_count": null,
   "metadata": {},
   "outputs": [],
   "source": [
    "science_files = ccdproc.ImageFileCollection(dataredconfig.data_dir / \"LIGHT\", keywords=dataredconfig.ifc_header_keywords)\n",
    "science_files.summary"
   ]
  },
  {
   "cell_type": "code",
   "execution_count": null,
   "metadata": {},
   "outputs": [],
   "source": [
    "\n",
    "# Defining the directory where pre-reduced images should be written:\n",
    "dest_dir = dataredconfig.work_dir / \"LIGHT_PRERED\"\n",
    "dest_dir.mkdir(exist_ok=True)\n",
    "\n",
    "# Reading in from disk the master calibration frames:\n",
    "masterbias = ccdproc.CCDData.read(dataredconfig.work_dir / \"masterbias.fits\")\n",
    "masterdark = ccdproc.CCDData.read(dataredconfig.work_dir / \"masterdark.fits\")\n",
    "# For the flats, we build a dictionnary that holds the masterflat for each filter name:\n",
    "available_flat_filters = [\"r\", \"g\", \"i\"]\n",
    "masterflats = {filtername: ccdproc.CCDData.read(dataredconfig.work_dir / f\"masterflat_{filtername}.fits\") for filtername in available_flat_filters}\n",
    "\n",
    "n_files = len(science_files.summary)\n",
    "# We loop over all files, selecting the right masterflat on the fly\n",
    "for (i, (ccd, filename)) in enumerate(science_files.ccds(ccd_kwargs={'unit': 'adu'}, return_fname=True)):\n",
    "    print(f\"=== Processing image {i+1}/{n_files}: {filename} ===\")\n",
    "    ccd = ccdproc.subtract_bias(ccd, masterbias)\n",
    "    ccd = ccdproc.subtract_dark(ccd, masterdark, exposure_time='exptime', exposure_unit=u.second, scale=True)\n",
    "    \n",
    "    masterflat_to_use = masterflats[ccd.header['filter']]\n",
    "    ccd = ccdproc.flat_correct(ccd, masterflat_to_use)\n",
    "    \n",
    "    # Write to disk:\n",
    "    ccd.data = ccd.data.astype('float32') # Converts to float32 to save space\n",
    "    ccd.write(dest_dir / filename, overwrite=True)"
   ]
  }
 ],
 "metadata": {
  "kernelspec": {
   "display_name": "datared2",
   "language": "python",
   "name": "python3"
  },
  "language_info": {
   "codemirror_mode": {
    "name": "ipython",
    "version": 3
   },
   "file_extension": ".py",
   "mimetype": "text/x-python",
   "name": "python",
   "nbconvert_exporter": "python",
   "pygments_lexer": "ipython3",
   "version": "3.11.8"
  }
 },
 "nbformat": 4,
 "nbformat_minor": 2
}
