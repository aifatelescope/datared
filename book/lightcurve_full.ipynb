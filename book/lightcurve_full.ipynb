{
 "cells": [
  {
   "cell_type": "markdown",
   "metadata": {},
   "source": [
    "# Light curve\n",
    "\n",
    "In this notebook we'll assemble the light curve of a star, calibrated against other stars of the same field, with the purpose of uncovering an exoplanet transit.\n",
    "\n",
    "As usual, you can download this page as a {download}`jupyter notebook <./lightcurve.ipynb>` file."
   ]
  },
  {
   "cell_type": "code",
   "execution_count": null,
   "metadata": {},
   "outputs": [],
   "source": [
    "import dataredconfig\n",
    "import pathlib\n",
    "\n",
    "import numpy as np\n",
    "import astropy\n",
    "import astropy.table\n",
    "import astropy.visualization\n",
    "from astropy import units as u\n",
    "\n",
    "import datetime\n",
    "\n",
    "%matplotlib widget\n",
    "import matplotlib\n",
    "from matplotlib import pyplot as plt\n",
    "\n",
    "import ccdproc"
   ]
  },
  {
   "cell_type": "code",
   "execution_count": null,
   "metadata": {},
   "outputs": [],
   "source": [
    "# We'll ignore some astropy warnings that get raised as our FITS headers (from NINA) are not 100% standards compliant.\n",
    "import warnings\n",
    "warnings.simplefilter('ignore', category=astropy.wcs.FITSFixedWarning)"
   ]
  },
  {
   "cell_type": "code",
   "execution_count": null,
   "metadata": {},
   "outputs": [],
   "source": [
    "photometry_dir = dataredconfig.work_dir / \"PHOTOMETRY\"\n",
    "\n",
    "object_to_process = \"HD92670\"\n",
    "\n",
    "catalog_filepaths = sorted(list(photometry_dir.glob('*.fits')))\n",
    "catalogs = []\n",
    "\n",
    "# We'll read all catalogs in, can keep only those matching the desired object in the above list.\n",
    "for catalog_filepath in catalog_filepaths:\n",
    "    \n",
    "    catalog = astropy.table.Table.read(catalog_filepath)\n",
    "\n",
    "    # We select the photometric catalogs of our object:  \n",
    "    if \"OBJECT\" in catalog.meta:\n",
    "        if catalog.meta[\"OBJECT\"] == object_to_process:\n",
    "            print(f\"{catalog_filepath} : {catalog.meta}\")\n",
    "            catalogs.append(catalog)\n"
   ]
  },
  {
   "cell_type": "code",
   "execution_count": null,
   "metadata": {},
   "outputs": [],
   "source": [
    "# We combine these catalogs into a single table, in \"depth\": columns will be 2D, where the second dimension is time.\n",
    "catalog = astropy.table.dstack(catalogs, join_type=\"exact\", metadata_conflicts=\"silent\")\n",
    "\n",
    "# We also produce a list of datetime objects, from the FITS headers:\n",
    "date_strings = [c.meta[\"DATE-OBS\"] for c in catalogs]\n",
    "dates = [datetime.datetime.fromisoformat(date) for date in date_strings]\n",
    "\n",
    "# And while we are at it, same for the airmass:\n",
    "airmasses = [c.meta[\"AIRMASS\"] for c in catalogs]\n",
    "\n",
    "# We read the reference catalog, as this one contains the position of each star\n",
    "ref_catalog = astropy.table.Table.read(photometry_dir / f\"ref_catalog_{object_to_process}.fits\")\n",
    "assert len(ref_catalog) == len(catalog) # Just a check that these are indeed of same length\n",
    "\n",
    "# We copy the positions from the reference catalog over to our combined catalog:\n",
    "catalog[\"sky_centroid_win\"] = ref_catalog[\"sky_centroid_win\"]\n",
    "\n",
    "print(f\"Number of epochs: {len(catalogs)}\")\n",
    "\n",
    "# And just for your information, the column names of our \"combined\" catalogue are:\n",
    "catalog.colnames\n"
   ]
  },
  {
   "cell_type": "markdown",
   "metadata": {},
   "source": [
    "We display an image of the field, overplotting the \"source indices\" corresponding to rows of our catalog"
   ]
  },
  {
   "cell_type": "code",
   "execution_count": null,
   "metadata": {},
   "outputs": [],
   "source": [
    "# We load one of the images, it does not have to be a specific one.\n",
    "light_prered_dir = dataredconfig.work_dir / \"LIGHT_PRERED\"\n",
    "science_files = ccdproc.ImageFileCollection(light_prered_dir, keywords=dataredconfig.ifc_header_keywords)\n",
    "science_files = science_files.filter(object=object_to_process)\n",
    "image_path = science_files.files[0]\n",
    "image = ccdproc.CCDData.read(image_path, unit=\"adu\")\n",
    "image.data -= np.median(image.data) # Quick sky subtraction\n",
    "\n",
    "# We test that the selected image does have WCS information, to prevent unexpected errors being raised further below. \n",
    "if(image.wcs is None):\n",
    "    raise RuntimeError(\"This image has no WCS, make sure you specify the correct directory (i.e., with WCS) above!\")\n"
   ]
  },
  {
   "cell_type": "code",
   "execution_count": null,
   "metadata": {},
   "outputs": [],
   "source": [
    "\n",
    "# And now create the figure\n",
    "plt.figure(figsize=(10, 6))\n",
    "ax = plt.subplot(projection=image.wcs)\n",
    "ax.imshow(image.data, origin='lower', cmap='Greys_r', interpolation='nearest',\n",
    "    norm=astropy.visualization.simple_norm(image.data, stretch=\"sqrt\", min_cut=-20, max_cut=500))\n",
    "ax.scatter(\n",
    "    catalog[\"sky_centroid_win\"].ra.degree,\n",
    "    catalog[\"sky_centroid_win\"].dec.degree,\n",
    "    transform=ax.get_transform('world'),\n",
    "    s=50, # The size of these markers is not related to any measurement apertures!\n",
    "    edgecolor='red', facecolor='none'\n",
    "    )\n",
    "for line in catalog:\n",
    "    ax.text(\n",
    "        x=line[\"sky_centroid_win\"].ra.degree,\n",
    "        y=line[\"sky_centroid_win\"].dec.degree,\n",
    "        s=str(line.index),\n",
    "        transform=ax.get_transform('world'),\n",
    "        color=\"cyan\"\n",
    "        )\n",
    "ax.grid(color='white', ls='solid')\n",
    "ax.coords[0].set_axislabel('RA')\n",
    "ax.coords[1].set_axislabel('Dec')\n",
    "#ax.coords[0].set_ticks(spacing=5.*u.arcmin)\n",
    "#ax.coords[1].set_ticks(spacing=5.*u.arcmin)\n",
    "plt.tight_layout()\n",
    "plt.show()\n",
    "\n"
   ]
  },
  {
   "cell_type": "markdown",
   "metadata": {},
   "source": [
    "Let's now visualize the raw light curves, to get a first impression."
   ]
  },
  {
   "cell_type": "code",
   "execution_count": null,
   "metadata": {},
   "outputs": [],
   "source": [
    "# Which stars (\"source indices\") should we plot?\n",
    "indices_show = []\n",
    "\n",
    "# We compute an \"instrumental magnitude\" from our flux measurements:\n",
    "catalog[\"instr_mag\"] = -2.5 * np.log10(catalog[\"sum_10\"].value) # this is a \"2D\" column: (source index, date)\n",
    "\n",
    "plt.figure()\n",
    "ax = plt.subplot()\n",
    "\n",
    "# Plot some field stars in grey:\n",
    "for index in indices_show:\n",
    "    ax.plot(dates, catalog[\"instr_mag\"][index], lw=1, label=index)\n",
    "\n",
    "ax.invert_yaxis() # Needed, as we show a magnitude on y.\n",
    "\n",
    "# Some advanced settings to help getting a nice format of the date axis labels:\n",
    "ax.xaxis.set_major_formatter(matplotlib.dates.ConciseDateFormatter(ax.xaxis.get_major_locator()))\n",
    "\n",
    "ax.set_ylabel(\"Instrumental magnitude\")\n",
    "plt.gcf().autofmt_xdate()\n",
    "plt.legend()\n",
    "\n",
    "plt.show()"
   ]
  },
  {
   "cell_type": "markdown",
   "metadata": {},
   "source": [
    "```{admonition} Question\n",
    "Do you observe any trends in these light curves, and are these common to all stars? Comment on what could cause these trends.\n",
    "```"
   ]
  },
  {
   "cell_type": "markdown",
   "metadata": {},
   "source": [
    "## Calibration\n",
    "\n",
    "To reveal the transit itself, some empirical calibration of the flux (or magnitude) measured in each exposure is needed.\n",
    "\n",
    "```{admonition} Question\n",
    "What would be the properties of good reference stars to use for the calibration?\n",
    "```"
   ]
  },
  {
   "cell_type": "code",
   "execution_count": null,
   "metadata": {},
   "outputs": [],
   "source": [
    "# For the calibration (and to produce a nice figure afterwards) some \"settings\":\n",
    "\n",
    "target_index = 12 # Which index in the field image from above corresponds to the target star (the one that shows the transit)?\n",
    "n_bright_stars_calib = 30 # How many of the brightest stars to use for calibration\n",
    "n_bright_stars_show = 5 # How many of the brightest stars should be plotted \n",
    "title_str = \"My target (Moon 50% @10°)\"\n",
    "\n",
    "# Some values from the literature:\n",
    "\n",
    "target_mag = 10.0 # What magnitude does this star have?\n",
    "transit_depth_ppt = 12.0 # How deep is the transit (in parts per thousands \"ppt\") \n",
    "ingress_datetime = datetime.datetime.fromisoformat(\"2024-04-21T22:32\") # Both in UTC\n",
    "egress_datetime = datetime.datetime.fromisoformat(\"2024-04-22T00:18\")\n",
    "\n",
    "\n",
    "# We compute the instrumental magnitude, for the desired aperture size (Maybe you did this already, but it doesn't harm)\n",
    "catalog[\"instr_mag\"] = -2.5 * np.log10(catalog[\"sum_10\"].value) # a \"2D\" column (index, date)\n",
    "\n",
    "zero_point = target_mag - np.nanmedian(catalog[target_index][\"instr_mag\"])\n",
    "print(f\"Zero-point: {zero_point}\")\n",
    "catalog[\"mag\"] = catalog[\"instr_mag\"] + zero_point\n",
    "\n",
    "catalog[\"medianmag\"] = np.nanmedian(catalog[\"mag\"], axis=1) # one value per source\n",
    "\n",
    "catalog[\"flux_sort_indices\"] = np.argsort(catalog[\"medianmag\"])\n",
    "indices_calib = catalog[\"flux_sort_indices\"][0:n_bright_stars_calib]\n",
    "indices_show = catalog[\"flux_sort_indices\"][0:n_bright_stars_show]\n",
    "\n",
    "catalog[\"delta_mag\"] = catalog[\"mag\"] - np.expand_dims(catalog[\"medianmag\"], axis=1) # 2D - 1D -> 2D (index, date)\n",
    "\n",
    "\n",
    "same_calib_for_all = np.nanmedian(catalog[\"delta_mag\"][indices_calib], axis=0)\n",
    "# Normalize this:\n",
    "same_calib_for_all -= np.mean(same_calib_for_all)\n",
    "# And make it a colum of the catalog\n",
    "catalog[\"calib\"] = np.tile(same_calib_for_all, (len(catalog), 1))\n",
    "\n",
    "transit_depth_mag = 2.5*np.log10(1.0/(1.0-transit_depth_ppt/1000.0))\n",
    "             "
   ]
  },
  {
   "cell_type": "code",
   "execution_count": null,
   "metadata": {},
   "outputs": [],
   "source": [
    "                    \n",
    "plt.figure()\n",
    "ax = plt.subplot()\n",
    "ax.axvline(ingress_datetime, lw=1)\n",
    "ax.axvline(egress_datetime, lw=1)\n",
    "ax.axhline(target_mag, lw=1, ls=\"--\")\n",
    "ax.axhline(target_mag + transit_depth_mag, lw=1, ls=\":\")\n",
    "\n",
    "# Plot some field stars in grey:\n",
    "for (i, index) in enumerate(indices_show):\n",
    "    ax.plot(\n",
    "    dates, catalog[\"mag\"][index] - catalog[\"calib\"][target_index] - (catalog[\"medianmag\"][index] - catalog[\"medianmag\"][target_index]) - 0.015*(i+1), \n",
    "    color=\"grey\", lw=1\n",
    "    )\n",
    "\n",
    "# Plot the target in red:\n",
    "ax.plot(\n",
    "    dates, catalog[\"mag\"][target_index] - catalog[\"calib\"][target_index], \n",
    "    color=\"red\"\n",
    "    )\n",
    "\n",
    "ax.invert_yaxis()\n",
    "\n",
    "ax2 = ax.twinx()\n",
    "color=\"purple\"\n",
    "ax2.set_ylabel('Airmass', color=color)\n",
    "ax2.plot(dates, airmasses, color=color, lw=1, ls=\"-.\")\n",
    "ax2.tick_params(axis='y', labelcolor=color)\n",
    "\n",
    "\n",
    "ax.xaxis.set_major_formatter(matplotlib.dates.ConciseDateFormatter(ax.xaxis.get_major_locator()))\n",
    "#plt.colorbar(label=f\"Separation to target center in {cat['separation'].unit}\")\n",
    "#plt.xlabel(\"Date\")\n",
    "ax.set_ylabel(\"i Magnitude\", color=\"red\")\n",
    "plt.gcf().autofmt_xdate()\n",
    "plt.title(title_str)\n",
    "plt.show()\n"
   ]
  }
 ],
 "metadata": {
  "kernelspec": {
   "display_name": "datared2",
   "language": "python",
   "name": "python3"
  },
  "language_info": {
   "codemirror_mode": {
    "name": "ipython",
    "version": 3
   },
   "file_extension": ".py",
   "mimetype": "text/x-python",
   "name": "python",
   "nbconvert_exporter": "python",
   "pygments_lexer": "ipython3",
   "version": "3.11.8"
  }
 },
 "nbformat": 4,
 "nbformat_minor": 2
}
