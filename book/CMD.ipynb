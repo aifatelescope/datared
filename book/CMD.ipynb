{
 "cells": [
  {
   "cell_type": "markdown",
   "metadata": {},
   "source": [
    "# Colour Magnitude Diagram"
   ]
  },
  {
   "cell_type": "code",
   "execution_count": 1,
   "metadata": {},
   "outputs": [],
   "source": [
    "from pathlib import Path\n",
    "\n",
    "import numpy as np\n",
    "import astropy\n",
    "import astropy.visualization\n",
    "from astropy import units as u\n",
    "\n",
    "%matplotlib widget\n",
    "import matplotlib\n",
    "from matplotlib import pyplot as plt\n",
    "\n",
    "import ccdproc\n",
    "import photutils"
   ]
  },
  {
   "cell_type": "code",
   "execution_count": 3,
   "metadata": {},
   "outputs": [
    {
     "data": {
      "text/html": [
       "<div><i>Table masked=True length=1</i>\n",
       "<table id=\"table5423003792\" class=\"table-striped table-bordered table-condensed\">\n",
       "<thead><tr><th>file</th><th>simple</th><th>bitpix</th><th>naxis</th><th>extend</th></tr></thead>\n",
       "<thead><tr><th>str49</th><th>bool</th><th>int64</th><th>int64</th><th>bool</th></tr></thead>\n",
       "<tr><td>2024-03-08_22-04-34_r_-10.00_60.00s_0000.new.fits</td><td>True</td><td>8</td><td>0</td><td>True</td></tr>\n",
       "</table></div>"
      ],
      "text/plain": [
       "<Table masked=True length=1>\n",
       "                       file                       simple bitpix naxis extend\n",
       "                      str49                        bool  int64  int64  bool \n",
       "------------------------------------------------- ------ ------ ----- ------\n",
       "2024-03-08_22-04-34_r_-10.00_60.00s_0000.new.fits   True      8     0   True"
      ]
     },
     "execution_count": 3,
     "metadata": {},
     "output_type": "execute_result"
    }
   ],
   "source": [
    "# Where the catalogs are:\n",
    "work_dir = Path(\"/Users/mtewes/Desktop/no_backup/workdir_2024-03-08\")\n",
    "photometry_dir = work_dir / \"PHOTOMETRY\"\n",
    "\n",
    "# To make things easier to read, we only display those header keywords:\n",
    "header_keywords = [\"imagetyp\", \"filter\", \"exptime\", \"object\"]\n",
    "\n",
    "catalog_files = ccdproc.ImageFileCollection(photometry_dir)#, keywords=header_keywords)\n",
    "\n",
    "#catalog_files = catalog_files.filter(object=\"M 37\")\n",
    "\n",
    "# Overview of all available files:\n",
    "catalog_files.summary"
   ]
  },
  {
   "cell_type": "code",
   "execution_count": 9,
   "metadata": {},
   "outputs": [
    {
     "name": "stdout",
     "output_type": "stream",
     "text": [
      "Filename: /Users/mtewes/Desktop/no_backup/workdir_2024-03-08/PHOTOMETRY/2024-03-08_22-04-34_r_-10.00_60.00s_0000.new.fits\n",
      "No.    Name      Ver    Type      Cards   Dimensions   Format\n",
      "  0  PRIMARY       1 PrimaryHDU       4   ()      \n",
      "  1                1 BinTableHDU     68   833R x 9C   [D, D, D, D, D, D, D, D, D]   \n"
     ]
    }
   ],
   "source": [
    "hdul = astropy.io.fits.open(photometry_dir / catalog_files.files[-1])\n",
    "hdul.info()"
   ]
  },
  {
   "cell_type": "code",
   "execution_count": 11,
   "metadata": {},
   "outputs": [
    {
     "data": {
      "text/plain": [
       "XTENSION= 'BINTABLE'           / binary table extension                         \n",
       "BITPIX  =                    8 / array data type                                \n",
       "NAXIS   =                    2 / number of array dimensions                     \n",
       "NAXIS1  =                   72 / length of dimension 1                          \n",
       "NAXIS2  =                  833 / length of dimension 2                          \n",
       "PCOUNT  =                    0 / number of group parameters                     \n",
       "GCOUNT  =                    1 / number of groups                               \n",
       "TFIELDS =                    9 / number of table fields                         \n",
       "TTYPE1  = 'fwhm_4  '                                                            \n",
       "TFORM1  = 'D       '                                                            \n",
       "TUNIT1  = 'pix     '                                                            \n",
       "TTYPE2  = 'elongation_4'                                                        \n",
       "TFORM2  = 'D       '                                                            \n",
       "TTYPE3  = 'sum_4   '                                                            \n",
       "TFORM3  = 'D       '                                                            \n",
       "TTYPE4  = 'fwhm_6  '                                                            \n",
       "TFORM4  = 'D       '                                                            \n",
       "TUNIT4  = 'pix     '                                                            \n",
       "TTYPE5  = 'elongation_6'                                                        \n",
       "TFORM5  = 'D       '                                                            \n",
       "TTYPE6  = 'sum_6   '                                                            \n",
       "TFORM6  = 'D       '                                                            \n",
       "TTYPE7  = 'fwhm_8  '                                                            \n",
       "TFORM7  = 'D       '                                                            \n",
       "TUNIT7  = 'pix     '                                                            \n",
       "TTYPE8  = 'elongation_8'                                                        \n",
       "TFORM8  = 'D       '                                                            \n",
       "TTYPE9  = 'sum_8   '                                                            \n",
       "TFORM9  = 'D       '                                                            \n",
       "DATE    = '2024-04-21 07:02:39 CEST'                                            \n",
       "COMMENT --BEGIN-ASTROPY-SERIALIZED-COLUMNS--                                    \n",
       "COMMENT datatype:                                                               \n",
       "COMMENT - {name: fwhm_4, unit: pix, datatype: float64}                          \n",
       "COMMENT - {name: elongation_4, datatype: float64}                               \n",
       "COMMENT - {name: sum_4, datatype: float64}                                      \n",
       "COMMENT - {name: fwhm_6, unit: pix, datatype: float64}                          \n",
       "COMMENT - {name: elongation_6, datatype: float64}                               \n",
       "COMMENT - {name: sum_6, datatype: float64}                                      \n",
       "COMMENT - {name: fwhm_8, unit: pix, datatype: float64}                          \n",
       "COMMENT - {name: elongation_8, datatype: float64}                               \n",
       "COMMENT - {name: sum_8, datatype: float64}                                      \n",
       "COMMENT meta:                                                                   \n",
       "COMMENT   __serialized_columns__:                                               \n",
       "COMMENT     elongation_4:                                                       \n",
       "COMMENT       __class__: astropy.units.quantity.Quantity                        \n",
       "COMMENT       unit: !astropy.units.Unit {unit: ''}                              \n",
       "COMMENT       value: !astropy.table.SerializedColumn {name: elongation_4}       \n",
       "COMMENT     elongation_6:                                                       \n",
       "COMMENT       __class__: astropy.units.quantity.Quantity                        \n",
       "COMMENT       unit: !astropy.units.Unit {unit: ''}                              \n",
       "COMMENT       value: !astropy.table.SerializedColumn {name: elongation_6}       \n",
       "COMMENT     elongation_8:                                                       \n",
       "COMMENT       __class__: astropy.units.quantity.Quantity                        \n",
       "COMMENT       unit: !astropy.units.Unit {unit: ''}                              \n",
       "COMMENT       value: !astropy.table.SerializedColumn {name: elongation_8}       \n",
       "COMMENT     fwhm_4:                                                             \n",
       "COMMENT       __class__: astropy.units.quantity.Quantity                        \n",
       "COMMENT       unit: !astropy.units.Unit {unit: pix}                             \n",
       "COMMENT       value: !astropy.table.SerializedColumn {name: fwhm_4}             \n",
       "COMMENT     fwhm_6:                                                             \n",
       "COMMENT       __class__: astropy.units.quantity.Quantity                        \n",
       "COMMENT       unit: !astropy.units.Unit {unit: pix}                             \n",
       "COMMENT       value: !astropy.table.SerializedColumn {name: fwhm_6}             \n",
       "COMMENT     fwhm_8:                                                             \n",
       "COMMENT       __class__: astropy.units.quantity.Quantity                        \n",
       "COMMENT       unit: !astropy.units.Unit {unit: pix}                             \n",
       "COMMENT       value: !astropy.table.SerializedColumn {name: fwhm_8}             \n",
       "COMMENT --END-ASTROPY-SERIALIZED-COLUMNS--                                      "
      ]
     },
     "execution_count": 11,
     "metadata": {},
     "output_type": "execute_result"
    }
   ],
   "source": [
    "hdul[1].header"
   ]
  },
  {
   "cell_type": "code",
   "execution_count": 8,
   "metadata": {},
   "outputs": [
    {
     "data": {
      "text/plain": [
       "OrderedDict([('DATE', '2024-04-21 07:02:39 CEST')])"
      ]
     },
     "execution_count": 8,
     "metadata": {},
     "output_type": "execute_result"
    }
   ],
   "source": [
    "#catalog_files.files[0]\n",
    "cat = astropy.table.Table.read(photometry_dir / catalog_files.files[-1])\n",
    "\n",
    "cat.meta\n"
   ]
  }
 ],
 "metadata": {
  "kernelspec": {
   "display_name": "datared2",
   "language": "python",
   "name": "python3"
  },
  "language_info": {
   "codemirror_mode": {
    "name": "ipython",
    "version": 3
   },
   "file_extension": ".py",
   "mimetype": "text/x-python",
   "name": "python",
   "nbconvert_exporter": "python",
   "pygments_lexer": "ipython3",
   "version": "3.11.8"
  }
 },
 "nbformat": 4,
 "nbformat_minor": 2
}
