{
 "cells": [
  {
   "cell_type": "markdown",
   "metadata": {},
   "source": [
    "# Reprojecting, stacking and colour-combination\n",
    "\n",
    "On this page we'll reproject our pre-reduced exposures on a common pixel grid, stack them, and produce a colour image.\n",
    "\n",
    "You can copy or write the code shown below in a script, or alternatively directly download this page as a {download}`jupyter notebook <./stack.ipynb>` file.\n",
    "\n",
    "To run the code, you'll need the module `dataredconfig.py`, as explained [here](./data.md)."
   ]
  },
  {
   "cell_type": "code",
   "execution_count": 1,
   "metadata": {},
   "outputs": [],
   "source": [
    "\n",
    "import dataredconfig\n",
    "\n",
    "import numpy as np\n",
    "import astropy\n",
    "import astropy.visualization\n",
    "from astropy import units as u\n",
    "\n",
    "%matplotlib ipympl\n",
    "import matplotlib\n",
    "from matplotlib import pyplot as plt\n",
    "import ccdproc\n"
   ]
  },
  {
   "cell_type": "code",
   "execution_count": null,
   "metadata": {},
   "outputs": [],
   "source": [
    "\n",
    "light_prered_dir = dataredconfig.work_dir / \"LIGHT_PRERED\"\n",
    "science_files = ccdproc.ImageFileCollection(light_prered_dir, keywords=dataredconfig.ifc_header_keywords)\n",
    "\n",
    "# Let's first get an overview of all available files:\n",
    "science_files.summary"
   ]
  },
  {
   "cell_type": "code",
   "execution_count": null,
   "metadata": {},
   "outputs": [],
   "source": [
    "# Where to write the reprojected files:\n",
    "dest_dir = dataredconfig.work_dir / \"REPROJ\"\n",
    "dest_dir.mkdir(exist_ok=True)\n"
   ]
  },
  {
   "cell_type": "markdown",
   "metadata": {},
   "source": [
    "Rerun the following three cells with all filters:\n",
    "\n",
    "Note that the following is a minimalistic example. It might give you an acceptable image, but it can certainly be improved a lot. In particular, the background might have changed during the observations. You could address this by subtracting the background individually from each exposure before combining them. Also, the flux scaling has likely changed (airmass, absorption). This could be addressed by computing some scaling factors for each image (based on photometry), and passing those to the ccdproc.combine function."
   ]
  },
  {
   "cell_type": "code",
   "execution_count": null,
   "metadata": {},
   "outputs": [],
   "source": [
    "\n",
    "# Select object and filter:\n",
    "selected_object = \"M 37\"\n",
    "selected_filter = \"r\"\n",
    "\n",
    "selected_science_files = science_files.filter(object=selected_object, filter=selected_filter)\n",
    "selected_science_files.summary"
   ]
  },
  {
   "cell_type": "code",
   "execution_count": null,
   "metadata": {},
   "outputs": [],
   "source": [
    "# Select first image as the target to project on (note: same image for *all* filters!)\n",
    "target_image = ccdproc.CCDData.read(science_files.filter(object=selected_object).files[0], unit='adu')\n",
    "\n",
    "# Looping over the images to do the reprojection (takes a while):\n",
    "for ccd, filename in selected_science_files.ccds(ccd_kwargs={'unit': 'adu'}, return_fname=True):\n",
    "    print(f\"Reprojecting {filename}...\")\n",
    "    \n",
    "    ccd = ccdproc.wcs_project(ccd, target_image.wcs)\n",
    "\n",
    "    # Write to disk:\n",
    "    ccd.data = ccd.data.astype('float32')\n",
    "    ccd.write(dest_dir / filename, overwrite=True)\n"
   ]
  },
  {
   "cell_type": "code",
   "execution_count": null,
   "metadata": {},
   "outputs": [],
   "source": [
    "# Combine the reprojected images of that filter:\n",
    "\n",
    "files_to_combine = ccdproc.ImageFileCollection(dest_dir).files_filtered(object=selected_object, filter=selected_filter, include_path=True)\n",
    "ccd = ccdproc.combine(files_to_combine,\n",
    "                        method='average', scale=None,\n",
    "                        sigma_clip=True, sigma_clip_low_thresh=5, sigma_clip_high_thresh=5,\n",
    "                        sigma_clip_func=np.ma.median, signma_clip_dev_func=astropy.stats.mad_std,\n",
    "                        mem_limit=1e9\n",
    "                    )\n",
    "\n",
    "ccd.meta['combined'] = True\n",
    "ccd.data = ccd.data.astype('float32') # Converts to float32 to save space\n",
    "ccd.write(dataredconfig.work_dir / f\"combi_{selected_object}_{selected_filter}.fits\", overwrite=True)\n"
   ]
  },
  {
   "cell_type": "markdown",
   "metadata": {},
   "source": [
    "At this stage you might want to:\n",
    "- combine stacks in separate filters to get a color image (see below)\n",
    "- create a greyscale image (png file) from a single stack (see further below)"
   ]
  },
  {
   "cell_type": "markdown",
   "metadata": {},
   "source": [
    "## Colour-combination\n",
    "\n",
    "This is the colour-combination algorithm used by SDSS.\n",
    "It might not be \"optimal\" for pretty pictures (well that's a matter of taste), but it is scientifically interesting.\n",
    "\n",
    "Todo: describe more, and also compare with simple RGB composite."
   ]
  },
  {
   "cell_type": "code",
   "execution_count": null,
   "metadata": {},
   "outputs": [],
   "source": [
    "\n",
    "g_ccd = ccdproc.CCDData.read(dataredconfig.work_dir / f\"combi_{selected_object}_g.fits\")\n",
    "r_ccd = ccdproc.CCDData.read(dataredconfig.work_dir / f\"combi_{selected_object}_r.fits\")\n",
    "i_ccd = ccdproc.CCDData.read(dataredconfig.work_dir / f\"combi_{selected_object}_i.fits\")\n",
    "\n",
    "# i -> R\n",
    "i_ccd.data *= 1.0\n",
    "# r -> G\n",
    "r_ccd.data *= 0.4\n",
    "# g -> B\n",
    "g_ccd.data *= 0.3\n",
    "\n",
    "sky_levels = (np.nanmedian(i_ccd.data), np.nanmedian(r_ccd.data), np.nanmedian(g_ccd.data))\n",
    "\n",
    "rgbimage = astropy.visualization.make_lupton_rgb(i_ccd.data, r_ccd.data, g_ccd.data,\n",
    "                                                 minimum=1.0*np.array(sky_levels),\n",
    "                                                 stretch=30, Q=5, \n",
    "                                                 filename=dataredconfig.work_dir/f\"combi_{selected_object}.jpg\")\n",
    "\n",
    "# Note that this both returns the image as a numpy array, and writes it to jpg."
   ]
  },
  {
   "cell_type": "code",
   "execution_count": null,
   "metadata": {},
   "outputs": [],
   "source": [
    "fig = plt.figure(figsize=(10, 6))\n",
    "ax = fig.subplots()\n",
    "ax.imshow(rgbimage , origin=\"lower\")\n",
    "fig.tight_layout()\n",
    "plt.show()"
   ]
  },
  {
   "cell_type": "markdown",
   "metadata": {},
   "source": [
    "## Getting a greyscale png file"
   ]
  },
  {
   "cell_type": "code",
   "execution_count": null,
   "metadata": {},
   "outputs": [],
   "source": [
    "# Read the stack we want to use:\n",
    "stackccd = ccdproc.CCDData.read(dataredconfig.work_dir / f\"combi_{selected_object}_{selected_filter}.fits\")\n"
   ]
  },
  {
   "cell_type": "code",
   "execution_count": null,
   "metadata": {},
   "outputs": [],
   "source": [
    "# Adjusting cuts and scale parameters is best done on an interactive figure:\n",
    "\n",
    "fig = plt.figure(figsize=(10, 6))\n",
    "ax = fig.subplots()\n",
    "ax.imshow(np.log10(stackccd.data - 1800.0),\n",
    "          origin=\"lower\",\n",
    "          vmin = 1.4,\n",
    "          vmax = 3.5,\n",
    "          #norm = matplotlib.colors.LogNorm(vmin = 1600, vmax = 4000),\n",
    "          cmap = \"Greys_r\",\n",
    "         )\n",
    "fig.tight_layout()\n",
    "plt.show()"
   ]
  },
  {
   "cell_type": "code",
   "execution_count": null,
   "metadata": {},
   "outputs": [],
   "source": [
    "# The same parameters from the figure above can now be used in imsave to write a full resolution png:\n",
    "\n",
    "import matplotlib.image\n",
    "matplotlib.image.imsave(\"pretty.png\", \n",
    "        np.log10(stackccd.data - 1800.0),\n",
    "        origin=\"lower\",\n",
    "        vmin = 1.4,\n",
    "        vmax = 3.5,\n",
    "        #norm = matplotlib.colors.LogNorm(vmin = 1600, vmax = 4000),\n",
    "        cmap = \"Greys_r\",\n",
    "        )"
   ]
  }
 ],
 "metadata": {
  "kernelspec": {
   "display_name": "datared2",
   "language": "python",
   "name": "python3"
  },
  "language_info": {
   "codemirror_mode": {
    "name": "ipython",
    "version": 3
   },
   "file_extension": ".py",
   "mimetype": "text/x-python",
   "name": "python",
   "nbconvert_exporter": "python",
   "pygments_lexer": "ipython3",
   "version": "3.11.8"
  }
 },
 "nbformat": 4,
 "nbformat_minor": 2
}
