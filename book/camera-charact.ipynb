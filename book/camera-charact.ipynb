{
 "cells": [
  {
   "cell_type": "markdown",
   "metadata": {},
   "source": [
    "# Camera characterization"
   ]
  },
  {
   "cell_type": "markdown",
   "metadata": {},
   "source": [
    "## Estimating the gain\n",
    "\n",
    "This section shows how the gain of a camera can be empirically measured. Note that for a typical CMOS camera, the gain can be controlled via software, and therefore depends on camera settings and the selected \"readout mode\". One of these settings might be called \"GAIN\", but this is just a software parameter, typically between 0 and 100. In this context, the actual gain we are interested in is sometimes called \"system gain\", but in the following we'll just refer to it as gain."
   ]
  },
  {
   "cell_type": "markdown",
   "metadata": {},
   "source": [
    "### Theory\n",
    "\n",
    "Recall that the gain $g$ can be seen as the conversion factor between electrons ($e$) and ADUs ($a$), assuming that this gain is constant over the full dynamic range of the camera:\n",
    "\n",
    "$$\n",
    "g = \\frac{\\text{Number of electrons in a pixel}}{\\text{Number of ADUs of this pixel}} = \\frac{e}{a}.\n",
    "$$\n",
    "\n",
    "The main idea of the present characterization is that the number of electrons per pixel is drawn from a [Poisson distribution](https://en.wikipedia.org/wiki/Poisson_distribution). This distribution has the property that its variance equals its expectation value. In other words, if we would repeat an idealized observation of $e$ in a given pixel a large number of times, illuminating this pixel with a constant source, the standard deviation $\\sigma_e$ of these $e_i$ would be the square root of their average $\\langle e \\rangle$:\n",
    "\n",
    "$$\n",
    "\\sigma_e = \\sqrt{\\langle e \\rangle} \\quad  \\Longleftrightarrow \\quad \\sigma^2_e = \\langle e \\rangle\n",
    "$$\n",
    "\n",
    "As we will see, this statement does **not** hold when considering ADUs instead of electrons. Indeed the camera \"arbitrarily\" divides numbers of electrons by $g$ to get ADUs. This operation also scales the standard deviation $\\sigma_a$ of these ADU values, so that\n",
    "\n",
    "$$\n",
    "\\sigma_a = \\sigma_e / g.\n",
    "$$\n",
    "\n",
    "Putting everything together, we can write:\n",
    "\n",
    "$$\n",
    "\\sigma_e = \\sqrt{\\langle e \\rangle}  \\quad \\Rightarrow \\quad g \\cdot \\sigma_a = \\sqrt{\\langle g \\cdot a \\rangle} \\quad \\Rightarrow  \\quad \\sigma_a = \\frac{1}{\\sqrt{g}}\\sqrt{\\langle a \\rangle},\n",
    "$$\n",
    "\n",
    "and equivalently\n",
    "\n",
    "$$\n",
    " \\sigma^2_a = \\frac{1}{g} \\langle a \\rangle.\n",
    "$$\n",
    "\n",
    "Therefore, comparing this variance of ADUs over repeated idealized observations of a given pixel to the expected number of ADUs would give us direct access to the gain of that pixel.\n",
    "\n",
    "Let's assume that all pixels have the same gain. In this case, instead of computing the variance and average over reapeated observations, it's tempting to simply take the variance and average over all (or at least many) *different* pixels of a flat frame. This would however neglect that the pixels have different sensitivities (and illuminations), which increases their spatial variance compared to the pure shot noise. Ignoring this would lead to a biased gain characterization.\n",
    "\n",
    "A simple trick to mitigate this issue is to measure the spatial variance on the **difference between two flats** taken in identical conditions. This largely cancels out the systematic variations from the flat, leaving only shot noise. And the variance of a difference (or sum) of uncorrelated random variables is simply the [sum of the variances](https://en.wikipedia.org/wiki/Variance). We can therefore simply divide this variance of the difference by two before comparing it to the average ADU level.\n",
    "\n",
    "In practice, we'll perform these measurements on pairs of flats at many different light levels, covering the entire range of the camera. The gain can then be obtained via linear fit, as the inverse slope of a \"signal-variance plot\". Of course, a good masterbias should be subtracted from the flat frames prior to the analysis. The dark current can often be ignored, if the exposures are short.\n",
    "\n",
    "For a more detailed description of the procedure outlined above, see for example https://www.mirametrics.com/tech_note_ccdgain.php .\n"
   ]
  },
  {
   "cell_type": "code",
   "execution_count": 29,
   "metadata": {},
   "outputs": [],
   "source": [
    "from pathlib import Path\n",
    "import numpy as np\n",
    "import astropy\n",
    "from astropy import units as u\n",
    "%matplotlib ipympl\n",
    "import matplotlib\n",
    "from matplotlib import pyplot as plt\n",
    "import ccdproc\n",
    "from astropy.modeling import models, fitting\n",
    "from astropy.nddata.blocks import block_reduce"
   ]
  },
  {
   "cell_type": "code",
   "execution_count": 30,
   "metadata": {},
   "outputs": [],
   "source": [
    "# Path to the raw data files (we follow good practice and won't modify these files):\n",
    "data_dir = Path(\"/export/data1/fprak1/Data/2024-09-06\")\n",
    "\n",
    "# Path to a directory where intermediate files and results can be written:\n",
    "work_dir = Path(\"/export/data1/fprak1/tests_mtewes/camera_charact/workdir\")\n",
    "work_dir.mkdir(exist_ok=True) # We create this directory in case it does not yet exist.\n",
    "\n",
    "# Our FITS files have long headers.\n",
    "# Just to make some summary tables easier to read, we give a list of the few important header keywords we care about:\n",
    "ifc_header_keywords = [\"imagetyp\", \"filter\", \"exptime\", \"object\", \"xbinning\", \"ybinning\", \"naxis1\", \"naxis2\"]"
   ]
  },
  {
   "cell_type": "code",
   "execution_count": 31,
   "metadata": {},
   "outputs": [],
   "source": [
    "# We'll ignore some astropy warnings that get raised as our FITS headers (from NINA) are not 100% standards compliant.\n",
    "import warnings\n",
    "warnings.simplefilter('ignore', category=astropy.wcs.FITSFixedWarning)"
   ]
  },
  {
   "cell_type": "markdown",
   "metadata": {},
   "source": [
    "Creating a masterbias"
   ]
  },
  {
   "cell_type": "code",
   "execution_count": null,
   "metadata": {},
   "outputs": [],
   "source": [
    "bias_files = ccdproc.ImageFileCollection(data_dir / \"BIAS\", keywords=ifc_header_keywords)\n",
    "bias_files.summary"
   ]
  },
  {
   "cell_type": "code",
   "execution_count": null,
   "metadata": {},
   "outputs": [],
   "source": [
    "# We check the level and noise in these files:\n",
    "for ccd, filename in bias_files.ccds(ccd_kwargs={'unit': 'adu'}, return_fname=True):\n",
    "    print(f\"{filename}: standard deviation {ccd.data.std():.2f} ADU, median level {np.median(ccd.data):.2f} ADU\")"
   ]
  },
  {
   "cell_type": "code",
   "execution_count": null,
   "metadata": {},
   "outputs": [],
   "source": [
    "combiner = ccdproc.Combiner(bias_files.ccds(ccd_kwargs={\"unit\":\"adu\"}))\n",
    "masterbias = combiner.average_combine()\n",
    "\n",
    "masterbias.meta['combined'] = True\n",
    "masterbias.data = masterbias.data.astype('float32') # Converts to float32 to save space\n",
    "masterbias.write(work_dir / 'masterbias.fits', overwrite=True)\n",
    "\n",
    "print(f\"masterbias: standard deviation {masterbias.data.std():.2f} ADU, median level {np.median(masterbias.data):.2f} ADU\")"
   ]
  },
  {
   "cell_type": "code",
   "execution_count": null,
   "metadata": {},
   "outputs": [],
   "source": [
    "flat_files = ccdproc.ImageFileCollection(data_dir / \"FLAT\", keywords=ifc_header_keywords)\n",
    "flat_files.summary.show_in_notebook()"
   ]
  },
  {
   "cell_type": "code",
   "execution_count": null,
   "metadata": {},
   "outputs": [],
   "source": [
    "flat_filters = set(flat_files.summary[\"filter\"])\n",
    "flat_objects = set(flat_files.summary[\"object\"])\n",
    "print(f\"Filters: {flat_filters}, objects: {flat_objects}\")"
   ]
  },
  {
   "cell_type": "markdown",
   "metadata": {},
   "source": [
    "We select some flats to use for the measurements"
   ]
  },
  {
   "cell_type": "code",
   "execution_count": null,
   "metadata": {},
   "outputs": [],
   "source": [
    "gain_filter = 'i'\n",
    "gain_object = 'Panelflat Zenith'\n",
    "\n",
    "gain_flat_files = flat_files.filter(object=gain_object, filter=gain_filter)\n",
    "\n",
    "gain_exptimes = sorted(list(set(gain_flat_files.summary[\"exptime\"])))\n",
    "print(f\"Exposure times of selected flat frames: {gain_exptimes}\")"
   ]
  },
  {
   "cell_type": "code",
   "execution_count": null,
   "metadata": {},
   "outputs": [],
   "source": [
    "# And measure the variance and signal in different ways\n",
    "\n",
    "# We prepare a table to hold the results\n",
    "results = []\n",
    "\n",
    "# Read the masterbias\n",
    "masterbias = ccdproc.CCDData.read(work_dir / 'masterbias.fits')\n",
    "\n",
    "# Loop over the flat frame exposure times\n",
    "for exptime in gain_exptimes:\n",
    "    files_match_mask = np.isclose(gain_flat_files.summary[\"exptime\"], exptime)\n",
    "    matched_flats = gain_flat_files.summary[\"file\"][files_match_mask]\n",
    "    \n",
    "    # We need (at least) two flats per exposure time\n",
    "    assert(len(matched_flats) > 1)\n",
    "\n",
    "    print(f\"Processing exptime {exptime}\")\n",
    "    \n",
    "    # Read them\n",
    "    flat_1 = ccdproc.CCDData.read(matched_flats[0], unit='adu')\n",
    "    flat_2 = ccdproc.CCDData.read(matched_flats[1], unit='adu')\n",
    "\n",
    "    # Subtract the masterbias\n",
    "    flat_1 = ccdproc.subtract_bias(flat_1, masterbias)\n",
    "    flat_2 = ccdproc.subtract_bias(flat_2, masterbias)\n",
    "\n",
    "    # Compute the diff\n",
    "    flat_diff = flat_1.subtract(flat_2)\n",
    "\n",
    "    if False: # Used this to check for issues in the images\n",
    "        plt.figure(figsize=(8, 4))\n",
    "        plt.title(f\"Exptime {exptime}\")\n",
    "        cbar = plt.imshow(flat_diff, origin='lower', cmap='Greys_r', interpolation='nearest')\n",
    "        plt.colorbar(cbar, label=\"Pixel value [ADU]\")\n",
    "        plt.xlabel(\"x [pixel]\")\n",
    "        plt.ylabel(\"y [pixel]\")\n",
    "        plt.tight_layout()\n",
    "        plt.show()\n",
    "    if False: # Used this to check that the difference is roughly Gaussian\n",
    "        plt.figure(figsize=(8, 4))\n",
    "        plt.title(f\"Exptime {exptime}\")\n",
    "        plt.hist(flat_diff.data[1000:1200,1000:1200].flatten(), bins=500)\n",
    "        plt.xlabel(\"Pixel value [ADU]\")\n",
    "        plt.tight_layout()\n",
    "        plt.show()\n",
    "    \n",
    "    # Compute stats:\n",
    "    res = {}\n",
    "    res[\"exptime\"] = exptime\n",
    "    res[\"median\"] = np.median(flat_1.data)\n",
    "    res[\"std\"] = np.std(flat_1.data)\n",
    "    res[\"std_diff\"] = np.std(flat_diff.data)\n",
    "    res[\"std_mad_diff\"] = 1.4826 * np.median(np.fabs(flat_diff.data - np.median(flat_diff.data)))\n",
    "    \n",
    "    res[\"var\"] = res[\"std\"]**2\n",
    "    res[\"var_diff\"] = (res[\"std_diff\"]**2)/2.0\n",
    "    res[\"var_mad_diff\"] = (res[\"std_mad_diff\"]**2)/2.0\n",
    "\n",
    "    results.append(res)\n",
    "\n",
    "tab = astropy.table.Table(results)\n",
    "\n",
    "# We robustly estimate the variance of this difference image.\n",
    "# Robustly, as there could potentially be a few hot pixels or defects that might otherwise strongly influence the result.\n",
    "\n",
    "#https://en.wikipedia.org/wiki/Median_absolute_deviation\n",
    "# std_robust = 1.4826 * mad # Assuming Gaussian noise, but that should be ok.\n",
    "\n",
    "#Median absolute deviation(x_i) = median(|x_i - median(x)|\n"
   ]
  },
  {
   "cell_type": "code",
   "execution_count": null,
   "metadata": {},
   "outputs": [],
   "source": [
    "# Fitting a line through the signal-variance plot\n",
    "\n",
    "# initialize a linear fitter\n",
    "fit = fitting.LinearLSQFitter()\n",
    "\n",
    "# initialize a linear model\n",
    "line_init = models.Linear1D()\n",
    "\n",
    "# fit the data with the fitter\n",
    "fitted_line = fit(line_init, tab[\"median\"], tab[\"var_mad_diff\"])\n",
    "\n",
    "gain = 1.0 / fitted_line.slope\n",
    "print(f\"Gain: {gain:.3f} e/ADU\")\n",
    "\n",
    "# Manufacturer values:\n",
    "# https://www.qhyccd.com/astronomical-camera-qhy600/\n"
   ]
  },
  {
   "cell_type": "code",
   "execution_count": null,
   "metadata": {},
   "outputs": [],
   "source": [
    "# Plotting the best fit line and the measurements in a signal-variance plot\n",
    "\n",
    "plt.rcParams.update({\n",
    "    \"text.usetex\": True,\n",
    "    \"font.family\": \"Helvetica\"\n",
    "})\n",
    "plt.figure(figsize=(7, 4))\n",
    "ax = plt.subplot()\n",
    "\n",
    "ax.plot(tab[\"median\"], tab[\"var_diff\"], ls=\"None\", marker=\"o\", label=\"Variance computed using difference of two flats\")\n",
    "ax.plot(tab[\"median\"], tab[\"var_mad_diff\"], ls=\"None\", marker=\"+\", label=\"Same, but more robust esimation via MAD\")\n",
    "\n",
    "ax.plot(tab[\"median\"], fitted_line(tab[\"median\"]), label=rf\"Fitted line: gain = 1/slope = {gain:.3f} e/ADU\")\n",
    "\n",
    "#ax.plot(tab[\"median\"], tab[\"var\"], ls=\"None\", marker=\"o\", label=\"Var on single flat\")\n",
    "\n",
    "ax.set_xlabel(r\"Median flat level [ADU]\")\n",
    "ax.set_ylabel(r\"Variance of shot noise [ADU$^2$]\")\n",
    "ax.set_title(\"Gain estimation (QHY600M, Readout Mode 0, settings GAIN=30 OFFSET=30)\")\n",
    "\n",
    "plt.grid()\n",
    "plt.legend()\n",
    "plt.show()"
   ]
  },
  {
   "cell_type": "markdown",
   "metadata": {},
   "source": [
    "## Visualizing the distortion model"
   ]
  },
  {
   "cell_type": "code",
   "execution_count": 4,
   "metadata": {},
   "outputs": [],
   "source": [
    "from pathlib import Path\n",
    "import numpy as np\n",
    "import astropy\n",
    "from astropy import units as u\n",
    "%matplotlib ipympl\n",
    "import matplotlib\n",
    "from matplotlib import pyplot as plt\n",
    "import ccdproc\n",
    "from astropy.modeling import models, fitting\n",
    "from astropy.nddata.blocks import block_reduce"
   ]
  },
  {
   "cell_type": "code",
   "execution_count": 5,
   "metadata": {},
   "outputs": [],
   "source": [
    "data_dir = Path(\"/export/data1/fprak1/Data/2024-08-27\")\n",
    "work_dir = Path(\"/export/data1/fprak1/tests_mtewes/camera_charact/workdir\")\n",
    "work_dir.mkdir(exist_ok=True) # We create this directory in case it does not yet exist.\n",
    "\n",
    "# Our FITS files have long headers.\n",
    "# Just to make some summary tables easier to read, we give a list of the few important header keywords we care about:\n",
    "ifc_header_keywords = [\"imagetyp\", \"filter\", \"exptime\", \"object\", \"xbinning\", \"ybinning\", \"naxis1\", \"naxis2\"]"
   ]
  },
  {
   "cell_type": "code",
   "execution_count": null,
   "metadata": {},
   "outputs": [],
   "source": [
    "light_files = ccdproc.ImageFileCollection(data_dir / \"LIGHT_WCS\", keywords=ifc_header_keywords)\n",
    "light_files.summary.show_in_notebook()"
   ]
  },
  {
   "cell_type": "code",
   "execution_count": null,
   "metadata": {},
   "outputs": [],
   "source": [
    "after_flip = ccdproc.CCDData.read(data_dir/\"LIGHT_WCS\"/\"2024-08-28_01-33-12_r_-5.00_40.00s_0042.fits\", unit=\"adu\")\n",
    "wcs = after_flip.wcs\n",
    "h = after_flip.header\n"
   ]
  },
  {
   "cell_type": "code",
   "execution_count": null,
   "metadata": {},
   "outputs": [],
   "source": [
    "nx, ny = h[\"NAXIS1\"], h[\"NAXIS2\"]\n",
    "print(f\"nx: {nx}, ny: {ny}\")\n",
    "x, y = np.arange(0, h[\"NAXIS1\"]), np.arange(0, h[\"NAXIS2\"])\n",
    "xx, yy = np.meshgrid(x, y)\n",
    "\n",
    "#u, v = wcs.all_pix2world(xx, yy, 0)\n",
    "\n",
    "skycoords = wcs.array_index_to_world(xx, yy)"
   ]
  },
  {
   "cell_type": "code",
   "execution_count": null,
   "metadata": {},
   "outputs": [],
   "source": [
    "u[0]"
   ]
  },
  {
   "cell_type": "code",
   "execution_count": null,
   "metadata": {},
   "outputs": [],
   "source": [
    "plt.subplot()\n",
    "plt.scatter(u)\n",
    "plt.grid(color='white', ls='solid')\n",
    "plt.show()"
   ]
  },
  {
   "cell_type": "markdown",
   "metadata": {},
   "source": [
    "## Comparing different flat frames"
   ]
  },
  {
   "cell_type": "code",
   "execution_count": null,
   "metadata": {},
   "outputs": [],
   "source": [
    "print(f\"Filters: {flat_filters}, objects: {flat_objects}\")\n"
   ]
  },
  {
   "cell_type": "code",
   "execution_count": null,
   "metadata": {},
   "outputs": [],
   "source": [
    "\n",
    "df_east = flat_files.filter(object='Domeflat East', exptime=0.12)\n",
    "df_east_exptimes = sorted(list(set(df_east.summary[\"exptime\"])))\n",
    "print(df_east_exptimes)"
   ]
  },
  {
   "cell_type": "code",
   "execution_count": null,
   "metadata": {},
   "outputs": [],
   "source": [
    "df_west = flat_files.filter(object='Domeflat West')\n",
    "df_west_exptimes = sorted(list(set(df_west.summary[\"exptime\"])))\n",
    "print(df_west_exptimes)"
   ]
  },
  {
   "cell_type": "code",
   "execution_count": null,
   "metadata": {},
   "outputs": [],
   "source": [
    "df_east_play = flat_files.filter(object='Domeflat East after filter wheel rotation')\n",
    "df_east_play_exptimes = sorted(list(set(df_east_play.summary[\"exptime\"])))\n",
    "print(df_east_play_exptimes)"
   ]
  },
  {
   "cell_type": "code",
   "execution_count": null,
   "metadata": {},
   "outputs": [],
   "source": [
    "pf = flat_files.filter(object='Panelflat Zenith', exptime=1.3)\n",
    "pf_exptimes = sorted(list(set(pf.summary[\"exptime\"])))\n",
    "print(pf_exptimes)"
   ]
  },
  {
   "cell_type": "code",
   "execution_count": null,
   "metadata": {},
   "outputs": [],
   "source": [
    "df_east_ccd = next(df_east.ccds(ccd_kwargs={'unit': 'adu'}))\n",
    "print(np.median(df_east_ccd.data))\n",
    "df_east_ccd.data = df_east_ccd.data / np.median(df_east_ccd.data)\n",
    "\n",
    "df_west_ccd = next(df_west.ccds(ccd_kwargs={'unit': 'adu'}))\n",
    "print(np.median(df_west_ccd.data))\n",
    "df_west_ccd.data = df_west_ccd.data / np.median(df_west_ccd.data)\n",
    "\n",
    "df_east_play_ccd = next(df_east_play.ccds(ccd_kwargs={'unit': 'adu'}))\n",
    "print(np.median(df_east_play_ccd.data))\n",
    "df_east_play_ccd.data = df_east_play_ccd.data / np.median(df_east_play_ccd.data)\n",
    "\n",
    "pf_ccd = next(pf.ccds(ccd_kwargs={'unit': 'adu'}))\n",
    "print(np.median(pf_ccd.data))\n",
    "pf_ccd.data = pf_ccd.data / np.median(pf_ccd.data)"
   ]
  },
  {
   "cell_type": "code",
   "execution_count": null,
   "metadata": {},
   "outputs": [],
   "source": [
    "plt.figure(figsize=(7, 4))\n",
    "cbar = plt.imshow(block_reduce(df_east_ccd.data/df_west_ccd.data, 5, func=np.mean), origin='lower', vmin=0.92, vmax=1.08, cmap='viridis', interpolation='nearest')\n",
    "plt.colorbar(cbar)\n",
    "plt.title(\"Dome flat East of pier / Dome flat West of pier (filter i)\")\n",
    "plt.tight_layout()\n",
    "plt.gca().get_xaxis().set_visible(False)\n",
    "plt.gca().get_yaxis().set_visible(False)\n",
    "plt.show()\n"
   ]
  },
  {
   "cell_type": "code",
   "execution_count": null,
   "metadata": {},
   "outputs": [],
   "source": [
    "plt.figure(figsize=(7, 4))\n",
    "cbar = plt.imshow(block_reduce(df_east_ccd.data/df_east_play_ccd.data, 100, func=np.mean), origin='lower', vmin=0.999, vmax=1.001, cmap='viridis', interpolation='nearest')\n",
    "plt.colorbar(cbar)\n",
    "plt.title(\"Dome flat before / after a few filter wheel rotations (filter i)\")\n",
    "plt.tight_layout()\n",
    "plt.gca().get_xaxis().set_visible(False)\n",
    "plt.gca().get_yaxis().set_visible(False)\n",
    "plt.show()\n"
   ]
  },
  {
   "cell_type": "code",
   "execution_count": null,
   "metadata": {},
   "outputs": [],
   "source": [
    "plt.figure(figsize=(7, 4))\n",
    "cbar = plt.imshow(block_reduce(df_east_ccd.data/pf_ccd.data, 5, func=np.mean), origin='lower', vmin=0.92, vmax=1.08, cmap='viridis', interpolation='nearest')\n",
    "plt.colorbar(cbar)\n",
    "plt.title(\"Dome flat East of pier / Panel flat at Zenith (filter i)\")\n",
    "plt.tight_layout()\n",
    "plt.gca().get_xaxis().set_visible(False)\n",
    "plt.gca().get_yaxis().set_visible(False)\n",
    "plt.show()\n"
   ]
  }
 ],
 "metadata": {
  "kernelspec": {
   "display_name": "datared",
   "language": "python",
   "name": "python3"
  },
  "language_info": {
   "codemirror_mode": {
    "name": "ipython",
    "version": 3
   },
   "file_extension": ".py",
   "mimetype": "text/x-python",
   "name": "python",
   "nbconvert_exporter": "python",
   "pygments_lexer": "ipython3",
   "version": "3.11.8"
  }
 },
 "nbformat": 4,
 "nbformat_minor": 2
}
