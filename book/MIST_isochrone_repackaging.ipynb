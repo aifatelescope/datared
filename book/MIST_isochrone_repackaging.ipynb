{
 "cells": [
  {
   "cell_type": "markdown",
   "metadata": {},
   "source": [
    "# Repackaging isochrones from MIST\n",
    "\n",
    "\n",
    "The purpose of this notebook is to keep track of how we generate the file containing the isochrone data.\n",
    "\n",
    "The source of the data is:\n",
    "https://waps.cfa.harvard.edu/MIST/\n",
    "\n",
    "Download the synthetic CMDs for SDSS (both v/vcrit = 0 and 0.4) from the \"Packaged Model Grids\" tab, and decompress using the following lines:\n",
    "\n",
    "`wget https://waps.cfa.harvard.edu/MIST/data/tarballs_v1.2/MIST_v1.2_vvcrit0.0_SDSSugriz.txz`\n",
    "\n",
    "`wget https://waps.cfa.harvard.edu/MIST/data/tarballs_v1.2/MIST_v1.2_vvcrit0.4_SDSSugriz.txz`\n",
    "\n",
    "`tar xvf MIST_v1.2_vvcrit0.0_SDSSugriz.txz`\n",
    "\n",
    "`tar xvf MIST_v1.2_vvcrit0.4_SDSSugriz.txz`\n",
    "\n",
    "To read these files, a module is provided, see https://waps.cfa.harvard.edu/MIST/resources.html .\n",
    "\n",
    "Alternate link to this module: https://github.com/jieunchoi/MIST_codes/blob/master/scripts/read_mist_models.py\n",
    "\n",
    "Note one difficulty: the number of rows (i.e., initial masses) differs for each age, making it not that trivial to store the whole data into a multidimensional array.\n",
    "We therfore opt for the list structure detailed below.\n"
   ]
  },
  {
   "cell_type": "code",
   "execution_count": null,
   "metadata": {},
   "outputs": [],
   "source": [
    "import read_mist_models\n",
    "import pathlib\n",
    "import numpy as np\n",
    "import astropy.table\n",
    "import pickle"
   ]
  },
  {
   "cell_type": "code",
   "execution_count": null,
   "metadata": {},
   "outputs": [],
   "source": [
    "# metalicities fe/H (as they appear in the filenames)\n",
    "fehs = np.array([-4, -3.5, -3, -2.5, -2, -1.75, -1.5, -1.25, -1, -0.75, -0.5, -0.25, 0.0, 0.25, 0.5])\n",
    "# rotation velocities (as they appear in the filenames)\n",
    "vrots = np.array([0, 0.4])\n",
    "\n",
    "# How the metalicity is written in the filename:\n",
    "def feh_string(feh):\n",
    "    if feh < -0.01:\n",
    "        return f\"m{-feh:.2f}\"\n",
    "    else:\n",
    "        return f\"p{feh:.2f}\"\n",
    "    \n",
    "# How rotation is written in the filename:\n",
    "def vrot_string(vrot):\n",
    "    return f\"vvcrit{vrot:.1f}\"\n",
    "\n",
    "# Filename:\n",
    "def isocmd_filename(vrot, feh):\n",
    "    return str(pathlib.Path(f\"./MIST_v1.2_{vrot_string(vrot)}_SDSSugriz\") / f\"MIST_v1.2_feh_{feh_string(feh)}_afe_p0.0_{vrot_string(vrot)}_SDSSugriz.iso.cmd\")\n",
    "\n",
    "# Testing:\n",
    "#print(isocmd_filename(rots[1], fehs[0]))\n"
   ]
  },
  {
   "cell_type": "code",
   "execution_count": null,
   "metadata": {},
   "outputs": [],
   "source": [
    "# Obtainign some metadata\n",
    "isocmd = read_mist_models.ISOCMD(isocmd_filename(0.0, 0.0))\n",
    "\n",
    "print( 'version: ', isocmd.version)\n",
    "print( 'photometric system: ', isocmd.photo_sys)\n",
    "print( 'abundances: ', isocmd.abun)\n",
    "print( 'rotation: ', isocmd.rot)\n",
    "print( 'ages: ', [round(x,2) for x in isocmd.ages])\n",
    "print( 'number of ages: ', isocmd.num_ages)\n",
    "print( 'available columns: ', isocmd.hdr_list)\n",
    "print( 'Av extinction: ', isocmd.Av_extinction)\n",
    "\n",
    "print(f\"Log10 of ages in Gyr: {[float(round(x,2)) for x in isocmd.ages]}\")\n",
    "print(f\"Available columns: {isocmd.hdr_list}\")\n",
    "\n",
    "#for feh in fehs:\n",
    "#    isocmd = read_mist_models.ISOCMD(isocmd_filename(0.0))\n",
    "#    print( 'number of ages: ', isocmd.num_ages)\n",
    "#    print(f\"Log10 of ages in Gyr: {[float(round(x,2)) for x in isocmd.ages]}\")\n",
    "\n",
    "# Ages are the same for all metallicities:\n",
    "logages = np.array(isocmd.ages)"
   ]
  },
  {
   "cell_type": "markdown",
   "metadata": {},
   "source": [
    "In principle, the data to draw an isochrone is a 2D table: columns are absolute magnitudes in g, r, i, and rows correspond to different stellar masses.\n",
    "We have such a table for each age, and for each metallicity. These table don't have the same size, as the number of masses changes with age!\n",
    "We store them in a list of lists, with indices (metallicity, age)."
   ]
  },
  {
   "cell_type": "code",
   "execution_count": null,
   "metadata": {},
   "outputs": [],
   "source": [
    "# Assembling all the data:\n",
    "\n",
    "columns_to_extract = ['SDSS_g', 'SDSS_r', 'SDSS_i', 'initial_mass']\n",
    "corresponding_new_names = ['g', 'r', 'i', 'initial_mass']\n",
    "assert len(columns_to_extract) == len(corresponding_new_names)\n",
    "\n",
    "vrot_list = []\n",
    "for vrot in vrots:\n",
    "    feh_list = []\n",
    "    for feh in fehs:#[:2]:\n",
    "        age_list = []\n",
    "        isocmd = read_mist_models.ISOCMD(isocmd_filename(vrot, feh))\n",
    "\n",
    "        for age_index in range(isocmd.num_ages): # [0, 50, 106]\n",
    "            column_list = []\n",
    "            for column_to_extract in columns_to_extract:\n",
    "                #print(column_to_extract)\n",
    "                column_data = np.array(isocmd.isocmds[age_index][column_to_extract], dtype=np.float32)\n",
    "                #print(data)\n",
    "                column_list.append(column_data)\n",
    "            isochrone = astropy.table.Table(column_list, names=corresponding_new_names)\n",
    "            \n",
    "            age_list.append(isochrone)\n",
    "        feh_list.append(age_list)\n",
    "    vrot_list.append(feh_list)\n"
   ]
  },
  {
   "cell_type": "code",
   "execution_count": null,
   "metadata": {},
   "outputs": [],
   "source": [
    "to_write = (vrot_list, vrots, fehs, logages)\n",
    "\n",
    "with open('isochrones_MIST.pickle', 'wb') as f:\n",
    "    pickle.dump(to_write, f, pickle.HIGHEST_PROTOCOL)"
   ]
  },
  {
   "cell_type": "code",
   "execution_count": null,
   "metadata": {},
   "outputs": [],
   "source": [
    "# how to read:\n",
    "\n",
    "with open('isochrones_MIST.pickle', 'rb') as f:\n",
    "    (isochrones, vrots, metallicities, logages) = pickle.load(f)\n",
    "\n",
    "print(len(isochrones))\n",
    "print(len(isochrones[0]))\n",
    "print(len(isochrones[0][0]))\n",
    "print(len(isochrones[0][0][0]))"
   ]
  }
 ],
 "metadata": {
  "kernelspec": {
   "display_name": "py12datared",
   "language": "python",
   "name": "python3"
  },
  "language_info": {
   "codemirror_mode": {
    "name": "ipython",
    "version": 3
   },
   "file_extension": ".py",
   "mimetype": "text/x-python",
   "name": "python",
   "nbconvert_exporter": "python",
   "pygments_lexer": "ipython3",
   "version": "3.12.8"
  }
 },
 "nbformat": 4,
 "nbformat_minor": 2
}
