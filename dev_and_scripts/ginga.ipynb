{
 "cells": [
  {
   "cell_type": "code",
   "execution_count": null,
   "metadata": {},
   "outputs": [],
   "source": [
    "# setup\n",
    "from ginga.web.pgw import ipg\n",
    "# Set this to True if you have a non-buggy python OpenCv bindings--it greatly speeds up some operations\n",
    "use_opencv = False\n",
    "\n",
    "server = ipg.make_server(host='localhost', port=9914)\n",
    "# Start viewer server\n",
    "# IMPORTANT: if running in an IPython/Jupyter notebook, use the no_ioloop=True option\n",
    "server.start(no_ioloop=True)\n",
    "# Get a viewer\n",
    "# This will get a handle to the viewer v1 = server.get_viewer('v1')\n",
    "v1 = server.get_viewer('v1')\n",
    "# where is my viewer\n",
    "v1.url\n"
   ]
  },
  {
   "cell_type": "code",
   "execution_count": null,
   "metadata": {},
   "outputs": [],
   "source": [
    "v1.load(science_files.files[0])\n",
    "v1.embed(height=650)"
   ]
  }
 ],
 "metadata": {
  "language_info": {
   "name": "python"
  }
 },
 "nbformat": 4,
 "nbformat_minor": 2
}
