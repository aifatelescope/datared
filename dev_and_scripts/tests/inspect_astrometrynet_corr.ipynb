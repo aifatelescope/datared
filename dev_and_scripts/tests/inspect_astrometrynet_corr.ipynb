{
 "cells": [
  {
   "cell_type": "code",
   "execution_count": null,
   "id": "952b7990-607b-43c8-8a53-543dd5595e22",
   "metadata": {},
   "outputs": [],
   "source": [
    "from astropy.table import Table"
   ]
  },
  {
   "cell_type": "code",
   "execution_count": null,
   "id": "32d8e84b-5859-4c92-a296-8fcf74319a38",
   "metadata": {},
   "outputs": [],
   "source": [
    "corrfilepath = \"run_two/orig.corr\""
   ]
  },
  {
   "cell_type": "code",
   "execution_count": null,
   "id": "149a9997-868b-43f2-b6b8-34fa69852d4c",
   "metadata": {},
   "outputs": [],
   "source": [
    "corr = Table.read(corrfilepath, format='fits')"
   ]
  },
  {
   "cell_type": "code",
   "execution_count": null,
   "id": "a92d3993-72b2-4bbf-98a3-aa8d731063cc",
   "metadata": {},
   "outputs": [],
   "source": [
    "corr"
   ]
  },
  {
   "cell_type": "code",
   "execution_count": null,
   "id": "322330d9-7554-4a1f-9b2e-2a6ae74f281a",
   "metadata": {},
   "outputs": [],
   "source": [
    "%matplotlib ipympl\n",
    "import matplotlib\n",
    "from matplotlib import pyplot as plt\n"
   ]
  },
  {
   "cell_type": "code",
   "execution_count": null,
   "id": "57e8ff14-e5cd-44e5-b77b-dfe0b3fa1f3f",
   "metadata": {},
   "outputs": [],
   "source": [
    "plt.figure()\n",
    "ax = plt.subplot()\n",
    "ax.scatter(\n",
    "    corr[\"field_x\"],\n",
    "    corr[\"field_y\"],\n",
    "    s=50, # The size of these markers is not related to any measurement apertures!\n",
    "    edgecolor='red', facecolor='none'\n",
    "    )\n",
    "\n",
    "ax.scatter(\n",
    "    corr[\"index_x\"],\n",
    "    corr[\"index_y\"],\n",
    "    s=40, # The size of these markers is not related to any measurement apertures!\n",
    "    edgecolor='green', facecolor='none'\n",
    "    )\n",
    "\n",
    "plt.show()\n"
   ]
  },
  {
   "cell_type": "code",
   "execution_count": null,
   "id": "325f19b5-84d5-4d99-b970-9cc7956488f8",
   "metadata": {},
   "outputs": [],
   "source": [
    "\n",
    "corr[\"error_field_x\"] = corr[\"field_x\"] - corr[\"index_x\"]\n",
    "corr[\"error_field_y\"] = corr[\"field_y\"] - corr[\"index_y\"]\n",
    "\n",
    "plt.figure()\n",
    "ax = plt.subplot()\n",
    "\n",
    "q = ax.quiver(corr[\"field_x\"], corr[\"field_y\"], corr[\"error_field_x\"], corr[\"error_field_y\"], units='dots', scale=0.01)\n",
    "\n",
    "qk = ax.quiverkey(q, 0.9, 0.9, 1, \"1 pixel\", labelpos='E', coordinates='figure')\n",
    "ax.set_xlabel(\"x [pixel]\")\n",
    "ax.set_ylabel(\"y [pixel]\")\n",
    "plt.show()"
   ]
  },
  {
   "cell_type": "code",
   "execution_count": null,
   "id": "1e0267bc-6b8a-4f1a-b353-746de6b7846a",
   "metadata": {},
   "outputs": [],
   "source": []
  }
 ],
 "metadata": {
  "kernelspec": {
   "display_name": "Python 3 (ipykernel)",
   "language": "python",
   "name": "python3"
  },
  "language_info": {
   "codemirror_mode": {
    "name": "ipython",
    "version": 3
   },
   "file_extension": ".py",
   "mimetype": "text/x-python",
   "name": "python",
   "nbconvert_exporter": "python",
   "pygments_lexer": "ipython3",
   "version": "3.11.8"
  }
 },
 "nbformat": 4,
 "nbformat_minor": 5
}
