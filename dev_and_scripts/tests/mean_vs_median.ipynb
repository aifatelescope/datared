{
 "cells": [
  {
   "cell_type": "code",
   "execution_count": null,
   "metadata": {},
   "outputs": [],
   "source": [
    "import numpy as np\n",
    "\n",
    "# Make two 2D-arrays of normally-distributed values:\n",
    "d_avg = np.random.normal(size=(1000, 1000))\n",
    "d_med = np.random.normal(size=(1000, 1000))"
   ]
  },
  {
   "cell_type": "code",
   "execution_count": null,
   "metadata": {},
   "outputs": [],
   "source": [
    "avg_std = np.std(np.mean(d_avg, axis=1))\n",
    "med_std = np.std(np.median(d_med, axis=1))\n",
    "\n",
    "avg_std, med_std\n"
   ]
  },
  {
   "cell_type": "markdown",
   "metadata": {},
   "source": [
    "For a large number of samples from a normal distribution, the variance of the median will by $\\pi/2 = 1.57$ times higher than the variance of the mean.\n",
    "\n",
    "The standard error of the median will be $\\sqrt{\\pi/2} = 1.25$ times higher, or 25% greater, than the standard error of the mean\n",
    "\n",
    "https://en.wikipedia.org/wiki/Median"
   ]
  },
  {
   "cell_type": "code",
   "execution_count": null,
   "metadata": {},
   "outputs": [],
   "source": [
    "1.0 / np.sqrt(1000)"
   ]
  }
 ],
 "metadata": {
  "kernelspec": {
   "display_name": "datared2",
   "language": "python",
   "name": "python3"
  },
  "language_info": {
   "codemirror_mode": {
    "name": "ipython",
    "version": 3
   },
   "file_extension": ".py",
   "mimetype": "text/x-python",
   "name": "python",
   "nbconvert_exporter": "python",
   "pygments_lexer": "ipython3",
   "version": "3.11.8"
  }
 },
 "nbformat": 4,
 "nbformat_minor": 2
}
