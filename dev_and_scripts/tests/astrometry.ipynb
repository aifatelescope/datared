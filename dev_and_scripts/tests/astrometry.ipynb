{
 "cells": [
  {
   "cell_type": "markdown",
   "metadata": {},
   "source": [
    "# Checking the accuracy of a WCS\n",
    "\n",
    "Malte Tewes, April 2024\n",
    "\n",
    "A great intro to astropy SkyCoord and catalog matching: https://learn.astropy.org/tutorials/1-Coordinates-Intro"
   ]
  },
  {
   "cell_type": "code",
   "execution_count": null,
   "metadata": {},
   "outputs": [],
   "source": [
    "import os\n",
    "import numpy as np\n",
    "\n",
    "from astropy import units as u\n",
    "import astropy.table\n",
    "\n",
    "%matplotlib ipympl\n",
    "import matplotlib\n",
    "from matplotlib import pyplot as plt\n",
    "\n",
    "import ccdproc\n",
    "\n",
    "from astropy import visualization as aviz\n",
    "from astropy.nddata.blocks import block_reduce\n",
    "\n",
    "from photutils.background import Background2D, MedianBackground\n",
    "\n",
    "from astropy.convolution import convolve\n",
    "from photutils.segmentation import make_2dgaussian_kernel\n",
    "\n",
    "from photutils.segmentation import SourceFinder, SourceCatalog\n",
    "\n",
    "from astropy.coordinates import SkyCoord\n",
    "\n",
    "import pyvo"
   ]
  },
  {
   "cell_type": "markdown",
   "metadata": {},
   "source": [
    "# Reading in the image\n",
    "\n",
    "The header written by ASTAP has an error and needs a fix:"
   ]
  },
  {
   "cell_type": "code",
   "execution_count": null,
   "metadata": {},
   "outputs": [],
   "source": [
    "\n",
    "filepath = \"/Users/mtewes/Desktop/no_backup/2024-03-08/LIGHT/2024-03-08_23-53-42_i_-10.00_60.00s_0005.fits\"\n",
    "\n",
    "tmp_filepath = \"/Users/mtewes/Desktop/no_backup/SIP-fix.fits\"\n",
    "\n",
    "# Fix the CIP header:\n",
    "\n",
    "hdul = astropy.io.fits.open(filepath)\n",
    "hdul.info()\n",
    "hdul[0].header[\"CTYPE1\"] = \"RA---TAN-SIP\"\n",
    "hdul[0].header[\"CTYPE2\"] = \"DEC--TAN-SIP\"\n",
    "\n",
    "hdul.writeto(tmp_filepath, overwrite=True)\n",
    "hdul.close()\n",
    "\n",
    "img = ccdproc.CCDData.read(tmp_filepath, unit=\"adu\")\n",
    "\n",
    "# Use this to ignore SIP:\n",
    "# wcsobj.sip = None"
   ]
  },
  {
   "cell_type": "markdown",
   "metadata": {},
   "source": [
    "# Get GAIA data"
   ]
  },
  {
   "cell_type": "markdown",
   "metadata": {},
   "source": []
  },
  {
   "cell_type": "code",
   "execution_count": null,
   "metadata": {},
   "outputs": [],
   "source": [
    "pos_string = \"{} {}\".format(img.header[\"OBJCTRA\"], img.header[\"OBJCTDEC\"])\n",
    "\n",
    "c = SkyCoord(pos_string, unit=(u.hourangle, u.deg))\n",
    "print(c)"
   ]
  },
  {
   "cell_type": "code",
   "execution_count": null,
   "metadata": {},
   "outputs": [],
   "source": [
    "c_dec_deg = c.dec.to_value(u.deg)\n",
    "c_ra_deg = c.ra.to_value(u.deg)\n",
    "r_deg = 1.0\n",
    "\n",
    "tap_service = pyvo.dal.TAPService(\"https://gaia.ari.uni-heidelberg.de/tap\")\n",
    "\n",
    "\n",
    "tap_query = \"\"\"\n",
    "SELECT ra, dec, phot_g_mean_mag, phot_bp_mean_mag, phot_rp_mean_mag\n",
    "FROM gaiadr3.gaia_source\n",
    "WHERE 1 = CONTAINS(POINT('ICRS', ra, dec),\n",
    "                   CIRCLE('ICRS', {}, {}, {}))\n",
    "AND phot_g_mean_mag < 18.0\n",
    "\"\"\".format(c_ra_deg, c_dec_deg, r_deg)\n",
    "print(tap_query)\n",
    "\n",
    "tap_data = tap_service.run_sync(tap_query)\n",
    "\n",
    "#with warnings.catch_warnings():\n",
    "#    warnings.filterwarnings(\"ignore\", module='astropy.*')\n",
    "#    tap_daten = tap_service.run_sync(tap_anfrage)\n",
    "\n",
    "gaiacat = tap_data.to_table()\n",
    "\n",
    "# We change the names of ra and dec, to avoid confusion\n",
    "gaiacat.rename_columns(names=[\"ra\", \"dec\"], new_names=[\"gaia_ra\", \"gaia_dec\"])\n",
    "\n",
    "print(gaiacat.info)"
   ]
  },
  {
   "cell_type": "markdown",
   "metadata": {},
   "source": [
    "# Building the source catalog of our own file"
   ]
  },
  {
   "cell_type": "code",
   "execution_count": null,
   "metadata": {},
   "outputs": [],
   "source": [
    "from astropy import visualization as aviz\n",
    "from astropy.nddata.blocks import block_reduce\n",
    "from astropy.nddata.utils import Cutout2D\n",
    "from matplotlib import pyplot as plt\n",
    "\n",
    "\n",
    "def show_image(image,\n",
    "               percl=99, percu=None, is_mask=False,\n",
    "               figsize=(10, 10),\n",
    "               cmap='viridis', log=False, clip=True,\n",
    "               show_colorbar=True, show_ticks=True,\n",
    "               fig=None, ax=None, input_ratio=None):\n",
    "    \"\"\"\n",
    "    Show an image in matplotlib with some basic astronomically-appropriat stretching.\n",
    "\n",
    "    Parameters\n",
    "    ----------\n",
    "    image\n",
    "        The image to show\n",
    "    percl : number\n",
    "        The percentile for the lower edge of the stretch (or both edges if ``percu`` is None)\n",
    "    percu : number or None\n",
    "        The percentile for the upper edge of the stretch (or None to use ``percl`` for both)\n",
    "    figsize : 2-tuple\n",
    "        The size of the matplotlib figure in inches\n",
    "    \"\"\"\n",
    "    if percu is None:\n",
    "        percu = percl\n",
    "        percl = 100 - percl\n",
    "\n",
    "    if (fig is None and ax is not None) or (fig is not None and ax is None):\n",
    "        raise ValueError('Must provide both \"fig\" and \"ax\" '\n",
    "                         'if you provide one of them')\n",
    "    elif fig is None and ax is None:\n",
    "        if figsize is not None:\n",
    "            # Rescale the fig size to match the image dimensions, roughly\n",
    "            image_aspect_ratio = image.shape[0] / image.shape[1]\n",
    "            figsize = (max(figsize) * image_aspect_ratio, max(figsize))\n",
    "\n",
    "        fig, ax = plt.subplots(1, 1, figsize=figsize)\n",
    "\n",
    "    \n",
    "    # To preserve details we should *really* downsample correctly and\n",
    "    # not rely on matplotlib to do it correctly for us (it won't).\n",
    "\n",
    "    # So, calculate the size of the figure in pixels, block_reduce to\n",
    "    # roughly that,and display the block reduced image.\n",
    "\n",
    "    # Thanks, https://stackoverflow.com/questions/29702424/how-to-get-matplotlib-figure-size\n",
    "    fig_size_pix = fig.get_size_inches() * fig.dpi\n",
    "\n",
    "    ratio = (image.shape // fig_size_pix).max()\n",
    "\n",
    "    if ratio < 1:\n",
    "        ratio = 1\n",
    "\n",
    "    ratio = input_ratio or ratio\n",
    "\n",
    "    reduced_data = block_reduce(image, ratio)\n",
    "\n",
    "    if not is_mask:\n",
    "        # Divide by the square of the ratio to keep the flux the same in the\n",
    "        # reduced image. We do *not* want to do this for images which are\n",
    "        # masks, since their values should be zero or one.\n",
    "         reduced_data = reduced_data / ratio**2\n",
    "\n",
    "    # Of course, now that we have downsampled, the axis limits are changed to\n",
    "    # match the smaller image size. Setting the extent will do the trick to\n",
    "    # change the axis display back to showing the actual extent of the image.\n",
    "    extent = [0, image.shape[1], 0, image.shape[0]]\n",
    "\n",
    "    if log:\n",
    "        stretch = aviz.LogStretch()\n",
    "    else:\n",
    "        stretch = aviz.LinearStretch()\n",
    "\n",
    "    norm = aviz.ImageNormalize(reduced_data,\n",
    "                               interval=aviz.AsymmetricPercentileInterval(percl, percu),\n",
    "                               stretch=stretch, clip=clip)\n",
    "\n",
    "    if is_mask:\n",
    "        # The image is a mask in which pixels should be zero or one.\n",
    "        # block_reduce may have changed some of the values, so reset here.\n",
    "        reduced_data = reduced_data > 0\n",
    "        # Set the image scale limits appropriately.\n",
    "        scale_args = dict(vmin=0, vmax=1)\n",
    "    else:\n",
    "        scale_args = dict(norm=norm)\n",
    "\n",
    "    im = ax.imshow(reduced_data, origin='lower',\n",
    "                   cmap=cmap, extent=extent, aspect='equal', **scale_args)\n",
    "\n",
    "    if show_colorbar:\n",
    "        # I haven't a clue why the fraction and pad arguments below work to make\n",
    "        # the colorbar the same height as the image, but they do....unless the image\n",
    "        # is wider than it is tall. Sticking with this for now anyway...\n",
    "        # Thanks: https://stackoverflow.com/a/26720422/3486425\n",
    "        #fig.colorbar(im, ax=ax, fraction=0.046, pad=0.04)\n",
    "        #fig.colorbar(im, ax=ax)\n",
    "        cax = fig.add_axes([ax.get_position().x1+0.01,ax.get_position().y0,0.02,ax.get_position().height])\n",
    "        plt.colorbar(im, cax=cax)\n",
    "        # In case someone in the future wants to improve this:\n",
    "        # https://joseph-long.com/writing/colorbars/\n",
    "        # https://stackoverflow.com/a/33505522/3486425\n",
    "        # https://matplotlib.org/mpl_toolkits/axes_grid/users/overview.html#colorbar-whose-height-or-width-in-sync-with-the-master-axes\n",
    "\n",
    "    if not show_ticks:\n",
    "        ax.tick_params(labelbottom=False, labelleft=False, labelright=False, labeltop=False)\n",
    "\n"
   ]
  },
  {
   "cell_type": "code",
   "execution_count": null,
   "metadata": {},
   "outputs": [],
   "source": [
    "show_image(img, log=False, percl=20, percu=99.9)"
   ]
  },
  {
   "cell_type": "code",
   "execution_count": null,
   "metadata": {},
   "outputs": [],
   "source": [
    "# Removing the background\n",
    "\n",
    "data = img.data + 0.0\n",
    "\n",
    "bkg_estimator = MedianBackground()\n",
    "bkg = Background2D(data, (100, 100), filter_size=(3, 3), bkg_estimator=bkg_estimator)\n",
    "\n",
    "bkg.background\n",
    "show_image(ccdproc.CCDData(bkg.background, unit=\"adu\"))\n",
    "\n",
    "data -= bkg.background  # subtract the background\n",
    "\n",
    "threshold = 3.0 * bkg.background_rms # this is an array\n"
   ]
  },
  {
   "cell_type": "code",
   "execution_count": null,
   "metadata": {},
   "outputs": [],
   "source": [
    "# Filtering (convolving) for source detection\n",
    "\n",
    "kernel = make_2dgaussian_kernel(2.0, size=5)  # FWHM = 2.0\n",
    "convolved_data = convolve(data, kernel)\n",
    "#show_image(ccdproc.CCDData(convolved_data, unit=\"adu\"))"
   ]
  },
  {
   "cell_type": "code",
   "execution_count": null,
   "metadata": {},
   "outputs": [],
   "source": [
    "# Segmenting the image\n",
    "\n",
    "finder = SourceFinder(npixels=4, connectivity=4, progress_bar=False)\n",
    "#segment_map = finder(convolved_data, threshold)\n",
    "segment_map = finder(data, threshold)\n",
    "print(segment_map)\n",
    "\n",
    "# And measuring sources\n",
    "cat = SourceCatalog(data, segment_map, convolved_data=convolved_data, wcs=img.wcs)\n",
    "tbl = cat.to_table(columns=[\"xcentroid_win\", \"ycentroid_win\", \"sky_centroid_win\", \"fwhm\", \"max_value\", \"kron_flux\", \"segment_flux\"])\n",
    "tbl"
   ]
  },
  {
   "cell_type": "code",
   "execution_count": null,
   "metadata": {},
   "outputs": [],
   "source": [
    "# Plotting mag and size\n",
    "\n",
    "tbl[\"mag\"] = -2.5 * np.log10(tbl[\"kron_flux\"].value) + 20\n",
    "\n",
    "#plt.scatter(tbl[\"semiminor_sigma\"], tbl[\"kron_flux\"])\n",
    "#plt.hist2d(tbl[\"fwhm\"].value, tbl[\"mag\"], bins=20, range=[[1.0, 5.0], [7, 13.0]])\n",
    "plt.figure()\n",
    "plt.plot(tbl[\"fwhm\"].value, tbl[\"mag\"], \"r.\", markersize=1)\n",
    "plt.xlim(0, 15)\n",
    "plt.gca().invert_yaxis()\n",
    "plt.show()"
   ]
  },
  {
   "cell_type": "markdown",
   "metadata": {},
   "source": [
    "# Matching the catalogs"
   ]
  },
  {
   "cell_type": "code",
   "execution_count": null,
   "metadata": {},
   "outputs": [],
   "source": [
    "gaiacoords = SkyCoord(ra=gaiacat['gaia_ra'], dec=gaiacat['gaia_dec'])\n",
    "\n",
    "idx_gaia, sep2d_gaia, _ = gaiacoords.match_to_catalog_sky(tbl[\"sky_centroid_win\"])\n",
    "good_ids = sep2d_gaia < 2.0 * u.arcsec\n",
    "\n",
    "print(len(tbl))\n",
    "print(len(idx_gaia))\n",
    "\n",
    "fullcat = astropy.table.hstack([tbl[idx_gaia][good_ids], gaiacat[good_ids]])\n",
    "print(len(fullcat))\n",
    "\n",
    "fullcat[\"error_ra_deg\"] = fullcat[\"sky_centroid_win\"].ra.to_value(u.deg) - fullcat[\"gaia_ra\"].value\n",
    "fullcat[\"error_dec_deg\"] = fullcat[\"sky_centroid_win\"].dec.to_value(u.deg) - fullcat[\"gaia_dec\"].value\n",
    "fullcat"
   ]
  },
  {
   "cell_type": "code",
   "execution_count": null,
   "metadata": {},
   "outputs": [],
   "source": [
    "plt.figure()\n",
    "plt.hist(sep2d_gaia.arcsec, histtype='step', \n",
    "         bins=np.logspace(-2, 2., 64))\n",
    "plt.xlabel('separation [arcsec]')\n",
    "plt.xscale('log')\n",
    "plt.yscale('log')\n",
    "plt.show()"
   ]
  },
  {
   "cell_type": "code",
   "execution_count": null,
   "metadata": {},
   "outputs": [],
   "source": [
    "plt.figure()\n",
    "plt.hist(np.array(fullcat[\"phot_g_mean_mag\"].value), bins=20)\n",
    "plt.xlabel('phot_g_mean_mag')\n",
    "plt.show()\n"
   ]
  },
  {
   "cell_type": "code",
   "execution_count": null,
   "metadata": {},
   "outputs": [],
   "source": [
    "fig1, ax1 = plt.subplots()\n",
    "\n",
    "Q = ax1.quiver(fullcat[\"gaia_ra\"], fullcat[\"gaia_dec\"], fullcat[\"error_ra_deg\"]*3600.0, fullcat[\"error_dec_deg\"]*3600.0, units='dots', scale=0.03)\n",
    "#Q = ax1.quiver(fullcat[\"xcentroid_win\"], fullcat[\"ycentroid_win\"], fullcat[\"error_ra_deg\"]*3600.0, fullcat[\"error_dec_deg\"]*3600.0, units='dots', scale=0.03)\n",
    "\n",
    "#ax1.plot(fullcat[\"sky_centroid_win\"].ra.deg, fullcat[\"sky_centroid_win\"].dec.deg, \"r.\", markersize=1)\n",
    "qk = ax1.quiverkey(Q, 0.9, 0.9, 1, \"1''\", labelpos='E', coordinates='figure')\n",
    "ax1.set_xlabel(\"RA [deg]\")\n",
    "ax1.set_ylabel(\"Dec [deg]\")"
   ]
  },
  {
   "cell_type": "code",
   "execution_count": null,
   "metadata": {},
   "outputs": [],
   "source": [
    "# attempt to refit the WCS\n",
    "\n",
    "sky = SkyCoord(ra=fullcat['gaia_ra'], dec=fullcat['gaia_dec'])\n",
    "print(len(sky))\n",
    "print((np.array(fullcat[\"xcentroid_win\"]), np.array(fullcat[\"ycentroid_win\"])))\n",
    "\n",
    "newwcs = astropy.wcs.utils.fit_wcs_from_points(\n",
    "    (np.array(fullcat[\"xcentroid_win\"]), np.array(fullcat[\"ycentroid_win\"])),\n",
    "    SkyCoord(ra=fullcat['gaia_ra'], dec=fullcat['gaia_dec']),\n",
    "    proj_point='center', projection='TAN', sip_degree=None)"
   ]
  }
 ],
 "metadata": {
  "kernelspec": {
   "display_name": "datared2",
   "language": "python",
   "name": "python3"
  },
  "language_info": {
   "codemirror_mode": {
    "name": "ipython",
    "version": 3
   },
   "file_extension": ".py",
   "mimetype": "text/x-python",
   "name": "python",
   "nbconvert_exporter": "python",
   "pygments_lexer": "ipython3",
   "version": "3.11.8"
  }
 },
 "nbformat": 4,
 "nbformat_minor": 2
}
