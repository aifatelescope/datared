{
 "cells": [
  {
   "cell_type": "markdown",
   "metadata": {},
   "source": [
    "# Image pre-reduction\n",
    "\n",
    "Demonstration and Testing notebook of the pre-reduction steps\n",
    "\n",
    "To use this, first download the directory \"2024-03-08\" from here:\n",
    "https://uni-bonn.sciebo.de/s/aKDd5Y3ln79Gg9W\n",
    "\n",
    "... and adjust the path to this data in the cell below."
   ]
  },
  {
   "cell_type": "code",
   "execution_count": null,
   "metadata": {},
   "outputs": [],
   "source": [
    "import os\n",
    "from pathlib import Path\n",
    "import numpy as np\n",
    "import astropy\n",
    "from astropy import units as u\n",
    "%matplotlib ipympl\n",
    "import matplotlib\n",
    "from matplotlib import pyplot as plt\n",
    "import ccdproc\n",
    "import photutils\n",
    "\n",
    "print(\"numpy\", np.__version__, \", astropy\", astropy.__version__, \", matplotlib\", matplotlib.__version__, \", ccdproc\", ccdproc.__version__, \", photutils\", photutils.__version__)\n",
    "# Developed with (April 2024): numpy 1.26.4 , astropy 6.0.1 , matplotlib 3.8.3 , ccdproc 2.4.1 , photutils 1.11.0"
   ]
  },
  {
   "cell_type": "code",
   "execution_count": null,
   "metadata": {},
   "outputs": [],
   "source": [
    "\n",
    "# Where files are (it's good practice to not modify these files!):\n",
    "data_dir = Path(\"/Users/mtewes/Desktop/no_backup/2024-03-08\")\n",
    "\n",
    "# Where things can be written:\n",
    "work_dir = Path(\"/Users/mtewes/Desktop/no_backup/workdir_2024-03-08\")\n",
    "work_dir.mkdir(exist_ok=True)\n",
    "\n",
    "# To make things easier to read, we only display those header keywords:\n",
    "header_keywords = [\"imagetyp\", \"filter\", \"exptime\", \"object\", \"xbinning\", \"ybinning\", \"naxis1\", \"naxis2\"]\n",
    "\n"
   ]
  },
  {
   "cell_type": "code",
   "execution_count": null,
   "metadata": {},
   "outputs": [],
   "source": [
    "# Ignore some astropy warnings that get raised as our FITS headers (from NINA) are not 100%  standards compliant.\n",
    "import warnings\n",
    "warnings.simplefilter('ignore', category=astropy.wcs.FITSFixedWarning)"
   ]
  },
  {
   "cell_type": "markdown",
   "metadata": {},
   "source": [
    "## Creating a master-bias"
   ]
  },
  {
   "cell_type": "code",
   "execution_count": null,
   "metadata": {},
   "outputs": [],
   "source": [
    "bias_files = ccdproc.ImageFileCollection(data_dir / \"BIAS\", keywords=header_keywords)\n",
    "bias_files.summary"
   ]
  },
  {
   "cell_type": "code",
   "execution_count": null,
   "metadata": {},
   "outputs": [],
   "source": [
    "# Check the level and noise in these files\n",
    "\n",
    "for ccd, filename in bias_files.ccds(ccd_kwargs={'unit': 'adu'}, return_fname=True):\n",
    "    print(f\"{filename}: standard deviation {ccd.data.std():.2f} ADU, median level {np.median(ccd.data):.2f} ADU\")"
   ]
  },
  {
   "cell_type": "code",
   "execution_count": null,
   "metadata": {},
   "outputs": [],
   "source": [
    "combiner = ccdproc.Combiner(bias_files.ccds(ccd_kwargs={\"unit\":\"adu\"}))\n",
    "masterbias = combiner.average_combine()\n",
    "\n",
    "masterbias.meta['combined'] = True\n",
    "masterbias.data = masterbias.data.astype('float32') # Converts to float32 to save space\n",
    "masterbias.write(work_dir / 'masterbias.fits', overwrite=True)\n",
    "\n",
    "print(f\"masterbias: standard deviation {masterbias.data.std():.2f} ADU, median level {np.median(masterbias.data):.2f} ADU\")"
   ]
  },
  {
   "cell_type": "code",
   "execution_count": null,
   "metadata": {},
   "outputs": [],
   "source": [
    "# Let's check for some structure, by median-smoothing this a bit\n",
    "\n",
    "smooth_masterbias = photutils.background.Background2D(masterbias.data, (100, 100), filter_size=(3, 3), bkg_estimator=photutils.background.MedianBackground()).background\n",
    "\n",
    "plt.figure()\n",
    "plt.imshow(smooth_masterbias, origin='lower', cmap='Greys_r', interpolation='nearest')\n",
    "plt.tight_layout()\n",
    "plt.show()"
   ]
  },
  {
   "cell_type": "markdown",
   "metadata": {},
   "source": [
    "## Creating a master-dark"
   ]
  },
  {
   "cell_type": "code",
   "execution_count": null,
   "metadata": {},
   "outputs": [],
   "source": [
    "dark_files = ccdproc.ImageFileCollection(data_dir / \"DARK\", keywords=header_keywords)\n",
    "dark_files.summary\n"
   ]
  },
  {
   "cell_type": "code",
   "execution_count": null,
   "metadata": {},
   "outputs": [],
   "source": [
    "# Make sure they all have the same exptime!\n",
    "\n",
    "exptimes = list(set(dark_files.summary[\"exptime\"]))\n",
    "assert(len(exptimes) == 1)\n",
    "dark_exptime = exptimes[0]\n",
    "print(\"Exposure times of darks: \", dark_exptime)\n",
    "\n",
    "# Check the level and noise in these files\n",
    "\n",
    "# Question to students, can you guess why the std is so much higher than for bias frames ?\n",
    "\n",
    "for ccd, filename in dark_files.ccds(ccd_kwargs={'unit': 'adu'}, return_fname=True):\n",
    "    print(f\"{filename}: standard deviation {ccd.data.std():.2f} ADU, median level {np.median(ccd.data):.2f} ADU\")"
   ]
  },
  {
   "cell_type": "code",
   "execution_count": null,
   "metadata": {},
   "outputs": [],
   "source": [
    "# Create the masterdark\n",
    "\n",
    "# alternative: but this might take too much memory\n",
    "#dark_ccds = [ccdproc.subtract_bias(ccd, masterbias) for ccd in dark_files.ccds(ccd_kwargs={'unit': 'adu'})]\n",
    "\n",
    "\n",
    "dest_dir = work_dir / \"DARK_BIASSUB\"\n",
    "dest_dir.mkdir(exist_ok=True)\n",
    "\n",
    "for ccd, filename in dark_files.ccds(ccd_kwargs={'unit': 'adu'}, return_fname=True):\n",
    "    print(f\"Processing {filename}...\")\n",
    "    ccd = ccdproc.subtract_bias(ccd, masterbias)\n",
    "    # Write to disk:\n",
    "    ccd.data = ccd.data.astype('float32')\n",
    "    ccd.write(dest_dir / filename, overwrite=True)\n",
    "\n",
    "files_to_combine = ccdproc.ImageFileCollection(dest_dir).files_filtered(include_path=True)\n",
    "masterdark = ccdproc.combine(files_to_combine,\n",
    "                                 method='average',\n",
    "                                 sigma_clip=True, sigma_clip_low_thresh=5, sigma_clip_high_thresh=5,\n",
    "                                 sigma_clip_func=np.ma.median, signma_clip_dev_func=astropy.stats.mad_std,\n",
    "                                 mem_limit=1e9\n",
    "                                )\n",
    "\n",
    "masterdark.meta['combined'] = True\n",
    "masterdark.data = masterdark.data.astype('float32') # Converts to float32 to save space\n",
    "masterdark.write(work_dir / 'masterdark.fits', overwrite=True)\n"
   ]
  },
  {
   "cell_type": "code",
   "execution_count": null,
   "metadata": {},
   "outputs": [],
   "source": [
    "# Let's check for some structure, by filtering-out hot pixels:\n",
    "\n",
    "smooth_masterdark = photutils.background.Background2D(masterdark.data, (200, 200), filter_size=(1, 1), bkg_estimator=photutils.background.MedianBackground()).background\n",
    "\n",
    "plt.figure()\n",
    "plt.imshow(smooth_masterdark, origin='lower', cmap='Greys_r', interpolation='nearest')\n",
    "plt.tight_layout()\n",
    "plt.show()\n"
   ]
  },
  {
   "cell_type": "markdown",
   "metadata": {},
   "source": [
    "## Creating the master-flats"
   ]
  },
  {
   "cell_type": "code",
   "execution_count": null,
   "metadata": {},
   "outputs": [],
   "source": [
    "flat_files = ccdproc.ImageFileCollection(data_dir / \"FLAT\", keywords=header_keywords)\n",
    "flat_files.summary\n"
   ]
  },
  {
   "cell_type": "code",
   "execution_count": null,
   "metadata": {},
   "outputs": [],
   "source": [
    "# Scaling function for the flats: they get \"normalized\" (i.e., divided) by their median:\n",
    "def inv_median(a):\n",
    "    return 1 / np.median(a)"
   ]
  },
  {
   "cell_type": "code",
   "execution_count": null,
   "metadata": {},
   "outputs": [],
   "source": [
    "\n",
    "# We'll simply loop over this list:\n",
    "flat_filters_to_run_on = [\"g\", \"r\", \"i\"]\n",
    "\n",
    "for selected_filter in flat_filters_to_run_on:\n",
    "\n",
    "    selected_flat_files = flat_files.filter(filter=selected_filter)\n",
    "    \n",
    "    dest_dir = work_dir / f\"FLAT_{selected_filter}_BIASSUB\"\n",
    "    dest_dir.mkdir(exist_ok=True)\n",
    "\n",
    "    # First subtract bias and dark from every flat:\n",
    "    for ccd, filename in selected_flat_files.ccds(ccd_kwargs={'unit': 'adu'}, return_fname=True):\n",
    "        print(f\"Processing {filename}...\")\n",
    "        ccd = ccdproc.subtract_bias(ccd, masterbias)\n",
    "        ccd = ccdproc.subtract_dark(ccd, masterdark, exposure_time='exptime', exposure_unit=u.second, scale=True)\n",
    "    \n",
    "        # Write to disk:\n",
    "        ccd.data = ccd.data.astype('float32') # Converts to float32 to save space\n",
    "        ccd.write(dest_dir / filename, overwrite=True)\n",
    "\n",
    "\n",
    "    # And now combine to a masterflat:\n",
    "    files_to_combine = ccdproc.ImageFileCollection(dest_dir).files_filtered(include_path=True)\n",
    "    masterflat = ccdproc.combine(files_to_combine,\n",
    "                                 method='average', scale=inv_median,\n",
    "                                 sigma_clip=True, sigma_clip_low_thresh=5, sigma_clip_high_thresh=5,\n",
    "                                 sigma_clip_func=np.ma.median, signma_clip_dev_func=astropy.stats.mad_std,\n",
    "                                 mem_limit=1e9\n",
    "                                )\n",
    "\n",
    "    masterflat.meta['combined'] = True\n",
    "    masterflat.data = masterflat.data.astype('float32') # Converts to float32 to save space\n",
    "    masterflat.write(work_dir / f\"masterflat_{selected_filter}.fits\", overwrite=True)"
   ]
  },
  {
   "cell_type": "code",
   "execution_count": null,
   "metadata": {},
   "outputs": [],
   "source": [
    "# Checking the masterflats\n",
    "\n",
    "masterflat = ccdproc.CCDData.read(work_dir / \"masterflat_g.fits\")\n",
    "plt.figure()\n",
    "plt.imshow(masterflat.data, vmin=0.9, vmax=1.05, origin='lower', cmap='Greys_r', interpolation='nearest')\n",
    "plt.tight_layout()\n",
    "plt.show()\n"
   ]
  },
  {
   "cell_type": "markdown",
   "metadata": {},
   "source": [
    "## Processing the science images"
   ]
  },
  {
   "cell_type": "code",
   "execution_count": null,
   "metadata": {},
   "outputs": [],
   "source": [
    "science_files = ccdproc.ImageFileCollection(data_dir / \"LIGHT\", keywords=header_keywords)\n",
    "science_files.summary"
   ]
  },
  {
   "cell_type": "code",
   "execution_count": null,
   "metadata": {},
   "outputs": [],
   "source": [
    "\n",
    "# Defining the directory where pre-reduced images should be written:\n",
    "dest_dir = work_dir / \"LIGHT_PRERED\"\n",
    "dest_dir.mkdir(exist_ok=True)\n",
    "\n",
    "# Reading in from disk the master calibration frames:\n",
    "masterbias = ccdproc.CCDData.read(work_dir / \"masterbias.fits\")\n",
    "masterdark = ccdproc.CCDData.read(work_dir / \"masterdark.fits\")\n",
    "# For the flats, we build a dictionnary that holds the masterflat for each filter name:\n",
    "available_flat_filters = [\"r\", \"g\", \"i\"]\n",
    "masterflats = {filtername: ccdproc.CCDData.read(work_dir / f\"masterflat_{filtername}.fits\") for filtername in available_flat_filters}\n",
    "\n",
    "# We loop over all files, selecting the right masterflat on the fly\n",
    "for ccd, filename in science_files.ccds(ccd_kwargs={'unit': 'adu'}, return_fname=True):\n",
    "    print(f\"Processing {filename}...\")\n",
    "    ccd = ccdproc.subtract_bias(ccd, masterbias)\n",
    "    ccd = ccdproc.subtract_dark(ccd, masterdark, exposure_time='exptime', exposure_unit=u.second, scale=True)\n",
    "    \n",
    "    masterflat_to_use = masterflats[ccd.header['filter']]\n",
    "    ccd = ccdproc.flat_correct(ccd, masterflat_to_use)\n",
    "    \n",
    "    # Write to disk:\n",
    "    ccd.data = ccd.data.astype('float32') # Converts to float32 to save space\n",
    "    ccd.write(dest_dir / filename, overwrite=True)"
   ]
  }
 ],
 "metadata": {
  "kernelspec": {
   "display_name": "datared",
   "language": "python",
   "name": "python3"
  },
  "language_info": {
   "codemirror_mode": {
    "name": "ipython",
    "version": 3
   },
   "file_extension": ".py",
   "mimetype": "text/x-python",
   "name": "python",
   "nbconvert_exporter": "python",
   "pygments_lexer": "ipython3",
   "version": "3.11.8"
  }
 },
 "nbformat": 4,
 "nbformat_minor": 2
}
