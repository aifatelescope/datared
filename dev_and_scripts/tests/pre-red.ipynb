{
 "cells": [
  {
   "cell_type": "markdown",
   "metadata": {},
   "source": [
    "# Image pre-reduciton"
   ]
  },
  {
   "cell_type": "code",
   "execution_count": 4,
   "metadata": {},
   "outputs": [
    {
     "name": "stdout",
     "output_type": "stream",
     "text": [
      "numpy 1.26.4 , astropy 6.0.1 , matplotlib 3.8.3 , ccdproc 2.4.1\n"
     ]
    }
   ],
   "source": [
    "import os\n",
    "from pathlib import Path\n",
    "import numpy as np\n",
    "import astropy\n",
    "from astropy import units as u\n",
    "%matplotlib ipympl\n",
    "import matplotlib\n",
    "from matplotlib import pyplot as plt\n",
    "import ccdproc\n",
    "\n",
    "print(\"numpy\", np.__version__, \", astropy\", astropy.__version__, \", matplotlib\", matplotlib.__version__, \", ccdproc\", ccdproc.__version__)"
   ]
  },
  {
   "cell_type": "code",
   "execution_count": 10,
   "metadata": {},
   "outputs": [],
   "source": [
    "\n",
    "# Where files are (it's good practice to not modify these files!)\n",
    "data_dir = Path(\"/Users/mtewes/Desktop/no_backup/2024-03-08\")\n",
    "\n",
    "# Where things can be written\n",
    "work_dir = Path(\"/Users/mtewes/Desktop/no_backup/workdir_2024-03-08\")\n",
    "work_dir.mkdir(exist_ok=True)\n",
    "\n",
    "# To make things easier to read, we only display those header keywords:\n",
    "header_keywords = [\"imagetyp\", \"filter\", \"exptime\", \"object\", \"xbinning\", \"ybinning\", \"naxis1\", \"naxis2\"]\n",
    "\n"
   ]
  },
  {
   "cell_type": "markdown",
   "metadata": {},
   "source": [
    "## Creating a master-bias"
   ]
  },
  {
   "cell_type": "code",
   "execution_count": 11,
   "metadata": {},
   "outputs": [
    {
     "data": {
      "text/html": [
       "<div><i>Table masked=True length=3</i>\n",
       "<table id=\"table5499413840\" class=\"table-striped table-bordered table-condensed\">\n",
       "<thead><tr><th>file</th><th>imagetyp</th><th>filter</th><th>exptime</th><th>object</th><th>xbinning</th><th>ybinning</th><th>naxis1</th><th>naxis2</th></tr></thead>\n",
       "<thead><tr><th>str47</th><th>str4</th><th>str4</th><th>float64</th><th>str4</th><th>int64</th><th>int64</th><th>int64</th><th>int64</th></tr></thead>\n",
       "<tr><td>2024-03-08_23-05-19_Dark_-10.00_0.00s_0000.fits</td><td>BIAS</td><td>Dark</td><td>1e-06</td><td>M 37</td><td>2</td><td>2</td><td>4788</td><td>3194</td></tr>\n",
       "<tr><td>2024-03-08_23-05-21_Dark_-9.90_0.00s_0001.fits</td><td>BIAS</td><td>Dark</td><td>1e-06</td><td>M 37</td><td>2</td><td>2</td><td>4788</td><td>3194</td></tr>\n",
       "<tr><td>2024-03-08_23-05-23_Dark_-9.90_0.00s_0002.fits</td><td>BIAS</td><td>Dark</td><td>1e-06</td><td>M 37</td><td>2</td><td>2</td><td>4788</td><td>3194</td></tr>\n",
       "</table></div>"
      ],
      "text/plain": [
       "<Table masked=True length=3>\n",
       "                      file                      imagetyp ... naxis1 naxis2\n",
       "                     str47                        str4   ... int64  int64 \n",
       "----------------------------------------------- -------- ... ------ ------\n",
       "2024-03-08_23-05-19_Dark_-10.00_0.00s_0000.fits     BIAS ...   4788   3194\n",
       " 2024-03-08_23-05-21_Dark_-9.90_0.00s_0001.fits     BIAS ...   4788   3194\n",
       " 2024-03-08_23-05-23_Dark_-9.90_0.00s_0002.fits     BIAS ...   4788   3194"
      ]
     },
     "execution_count": 11,
     "metadata": {},
     "output_type": "execute_result"
    }
   ],
   "source": [
    "bias_files = ccdproc.ImageFileCollection(data_dir / \"BIAS\", keywords=header_keywords)\n",
    "bias_files.summary"
   ]
  },
  {
   "cell_type": "code",
   "execution_count": 16,
   "metadata": {},
   "outputs": [
    {
     "name": "stdout",
     "output_type": "stream",
     "text": [
      "2024-03-08_23-05-19_Dark_-10.00_0.00s_0000.fits: standard deviation 14.26 ADU\n",
      "2024-03-08_23-05-21_Dark_-9.90_0.00s_0001.fits: standard deviation 14.22 ADU\n",
      "2024-03-08_23-05-23_Dark_-9.90_0.00s_0002.fits: standard deviation 14.20 ADU\n"
     ]
    }
   ],
   "source": [
    "# Check the level and noise in these files\n",
    "\n",
    "for hdu, filename in bias_files.hdus(return_fname=True):\n",
    "    print(f\"{filename}: standard deviation {hdu.data.std():.2f} ADU\")"
   ]
  },
  {
   "cell_type": "code",
   "execution_count": 17,
   "metadata": {},
   "outputs": [
    {
     "name": "stderr",
     "output_type": "stream",
     "text": [
      "WARNING: FITSFixedWarning: 'datfix' made the change 'Set MJD-OBS to 60377.920365 from DATE-OBS.\n",
      "Set MJD-AVG to 60377.920376 from DATE-AVG'. [astropy.wcs.wcs]\n",
      "WARNING:astropy:FITSFixedWarning: 'datfix' made the change 'Set MJD-OBS to 60377.920365 from DATE-OBS.\n",
      "Set MJD-AVG to 60377.920376 from DATE-AVG'.\n",
      "WARNING: FITSFixedWarning: 'datfix' made the change 'Set MJD-OBS to 60377.920388 from DATE-OBS.\n",
      "Set MJD-AVG to 60377.920399 from DATE-AVG'. [astropy.wcs.wcs]\n",
      "WARNING:astropy:FITSFixedWarning: 'datfix' made the change 'Set MJD-OBS to 60377.920388 from DATE-OBS.\n",
      "Set MJD-AVG to 60377.920399 from DATE-AVG'.\n",
      "WARNING: FITSFixedWarning: 'datfix' made the change 'Set MJD-OBS to 60377.920410 from DATE-OBS.\n",
      "Set MJD-AVG to 60377.920421 from DATE-AVG'. [astropy.wcs.wcs]\n",
      "WARNING:astropy:FITSFixedWarning: 'datfix' made the change 'Set MJD-OBS to 60377.920410 from DATE-OBS.\n",
      "Set MJD-AVG to 60377.920421 from DATE-AVG'.\n"
     ]
    },
    {
     "name": "stdout",
     "output_type": "stream",
     "text": [
      "Masterbias standard deviation 8.67 ADU\n"
     ]
    }
   ],
   "source": [
    "combiner = ccdproc.Combiner(bias_files.ccds(ccd_kwargs={\"unit\":\"adu\"}))\n",
    "masterbias = combiner.average_combine()\n",
    "\n",
    "masterbias.meta['combined'] = True\n",
    "masterbias.write(work_dir / 'masterbias.fits')\n",
    "\n",
    "print(f\"Masterbias standard deviation {masterbias.data.std():.2f} ADU\")"
   ]
  },
  {
   "cell_type": "markdown",
   "metadata": {},
   "source": [
    "## Creating a master-dark"
   ]
  },
  {
   "cell_type": "markdown",
   "metadata": {},
   "source": [
    "## Creating the master-flats"
   ]
  },
  {
   "cell_type": "code",
   "execution_count": null,
   "metadata": {},
   "outputs": [],
   "source": [
    "selected_files = flat_files.filter(filter=\"g\")\n",
    "print(len(selected_files.files))\n",
    "\n",
    "\"\"\"\n",
    "for hdu in flat_files.hdus(filter=\"g\"):\n",
    "    print(hdu.header)\n",
    "\n",
    "for ccd in flat_files.ccds(ccd_kwargs={\"unit\":\"adu\"}):\n",
    "    print(\"hello\")\n",
    "\"\"\"\n",
    "\n",
    "combiner = ccdproc.Combiner(flat_files.ccds(ccd_kwargs={\"unit\":\"adu\"}, filter=\"g\"))\n",
    "\n",
    "avg_combi = combiner.average_combine()\n"
   ]
  },
  {
   "cell_type": "code",
   "execution_count": null,
   "metadata": {},
   "outputs": [],
   "source": [
    "avg_combi.header\n",
    "\n",
    "\n",
    "#plt.subplot(projection=wcs)\n",
    "#plt.imshow(hdu.data, vmin=-2.e-5, vmax=2.e-4, origin='lower')\n",
    "#plt.grid(color='white', ls='solid')"
   ]
  },
  {
   "cell_type": "code",
   "execution_count": null,
   "metadata": {},
   "outputs": [],
   "source": [
    "data_directory = \"/Users/mtewes/Desktop/no_backup/2024-03-08\"\n",
    "header_keywords = [\"imagetyp\", \"filter\", \"exptime\", \"object\", \"xbinning\", \"ybinning\", \"naxis1\", \"naxis2\"]\n",
    "\n",
    "ifc = ccdproc.ImageFileCollection(data_directory + \"/LIGHT\", keywords=header_keywords)\n",
    "ifc.summary"
   ]
  },
  {
   "cell_type": "code",
   "execution_count": null,
   "metadata": {},
   "outputs": [],
   "source": [
    "ifc.ccds(filter=\"i\", object=\"M 66\", file=\"2024-03-08_23-53-42_i_-10.00_60.00s_0005.fits\")\n"
   ]
  }
 ],
 "metadata": {
  "kernelspec": {
   "display_name": "datared",
   "language": "python",
   "name": "python3"
  },
  "language_info": {
   "codemirror_mode": {
    "name": "ipython",
    "version": 3
   },
   "file_extension": ".py",
   "mimetype": "text/x-python",
   "name": "python",
   "nbconvert_exporter": "python",
   "pygments_lexer": "ipython3",
   "version": "3.11.8"
  }
 },
 "nbformat": 4,
 "nbformat_minor": 2
}
