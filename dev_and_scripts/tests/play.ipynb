{
 "cells": [
  {
   "cell_type": "code",
   "execution_count": null,
   "metadata": {},
   "outputs": [],
   "source": [
    "import os\n",
    "import numpy as np\n",
    "import astropy\n",
    "from astropy import units as u\n",
    "%matplotlib ipympl\n",
    "import matplotlib\n",
    "from matplotlib import pyplot as plt\n",
    "import ccdproc\n",
    "\n",
    "print(\"numpy\", np.__version__, \", astropy\", astropy.__version__, \", matplotlib\", matplotlib.__version__, \", ccdproc\", ccdproc.__version__)"
   ]
  },
  {
   "cell_type": "code",
   "execution_count": null,
   "metadata": {},
   "outputs": [],
   "source": [
    "data_directory = \"/Users/mtewes/Desktop/no_backup/2024-03-08\"\n",
    "header_keywords = [\"imagetyp\", \"filter\", \"exptime\", \"object\", \"xbinning\", \"ybinning\", \"naxis1\", \"naxis2\"]\n",
    "\n",
    "flat_files = ccdproc.ImageFileCollection(data_directory + \"/FLAT\", keywords=header_keywords)\n",
    "flat_files.summary"
   ]
  },
  {
   "cell_type": "code",
   "execution_count": null,
   "metadata": {},
   "outputs": [],
   "source": [
    "selected_files = flat_files.filter(filter=\"g\")\n",
    "print(len(selected_files.files))\n",
    "\n",
    "\"\"\"\n",
    "for hdu in flat_files.hdus(filter=\"g\"):\n",
    "    print(hdu.header)\n",
    "\n",
    "for ccd in flat_files.ccds(ccd_kwargs={\"unit\":\"adu\"}):\n",
    "    print(\"hello\")\n",
    "\"\"\"\n",
    "\n",
    "combiner = ccdproc.Combiner(flat_files.ccds(ccd_kwargs={\"unit\":\"adu\"}, filter=\"g\"))\n",
    "\n",
    "avg_combi = combiner.average_combine()\n"
   ]
  },
  {
   "cell_type": "code",
   "execution_count": null,
   "metadata": {},
   "outputs": [],
   "source": [
    "avg_combi.header\n",
    "\n",
    "\n",
    "#plt.subplot(projection=wcs)\n",
    "#plt.imshow(hdu.data, vmin=-2.e-5, vmax=2.e-4, origin='lower')\n",
    "#plt.grid(color='white', ls='solid')"
   ]
  },
  {
   "cell_type": "code",
   "execution_count": null,
   "metadata": {},
   "outputs": [],
   "source": [
    "data_directory = \"/Users/mtewes/Desktop/no_backup/2024-03-08\"\n",
    "header_keywords = [\"imagetyp\", \"filter\", \"exptime\", \"object\", \"xbinning\", \"ybinning\", \"naxis1\", \"naxis2\"]\n",
    "\n",
    "ifc = ccdproc.ImageFileCollection(data_directory + \"/LIGHT\", keywords=header_keywords)\n",
    "ifc.summary"
   ]
  },
  {
   "cell_type": "code",
   "execution_count": null,
   "metadata": {},
   "outputs": [],
   "source": [
    "ifc.ccds(filter=\"i\", object=\"M 66\", file=\"2024-03-08_23-53-42_i_-10.00_60.00s_0005.fits\")\n"
   ]
  }
 ],
 "metadata": {
  "kernelspec": {
   "display_name": "datared",
   "language": "python",
   "name": "python3"
  },
  "language_info": {
   "codemirror_mode": {
    "name": "ipython",
    "version": 3
   },
   "file_extension": ".py",
   "mimetype": "text/x-python",
   "name": "python",
   "nbconvert_exporter": "python",
   "pygments_lexer": "ipython3",
   "version": "3.11.8"
  }
 },
 "nbformat": 4,
 "nbformat_minor": 2
}
